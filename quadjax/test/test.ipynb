{
 "cells": [
  {
   "cell_type": "code",
   "execution_count": 2,
   "metadata": {},
   "outputs": [
    {
     "data": {
      "text/plain": [
       "array([1.38177329, 0.49315059])"
      ]
     },
     "execution_count": 2,
     "metadata": {},
     "output_type": "execute_result"
    }
   ],
   "source": [
    "from sympy import sin, cos, symbols, lambdify\n",
    "import numpy as np\n",
    "x = symbols('x')\n",
    "expr = sin(x) + cos(x)\n",
    "expr\n",
    "f = lambdify(x, expr, 'numpy')\n",
    "a = np.array([1, 2])\n",
    "f(a)\n",
    "# type(f(a))"
   ]
  },
  {
   "cell_type": "code",
   "execution_count": 1,
   "metadata": {},
   "outputs": [
    {
     "name": "stderr",
     "output_type": "stream",
     "text": [
      "/home/bianzx/miniconda3/envs/pytorch3d/lib/python3.9/site-packages/flax/core/frozen_dict.py:169: FutureWarning: jax.tree_util.register_keypaths is deprecated, and will be removed in a future release. Please use `register_pytree_with_keys()` instead.\n",
      "  jax.tree_util.register_keypaths(\n"
     ]
    },
    {
     "data": {
      "text/plain": [
       "Array([[ 0.14900088, -0.80062795,  0.48393178],\n",
       "       [ 0.78835654,  0.19313312, -0.09349632]], dtype=float32)"
      ]
     },
     "execution_count": 1,
     "metadata": {},
     "output_type": "execute_result"
    }
   ],
   "source": [
    "from gymnax.environments import environment, spaces\n",
    "import numpy as np\n",
    "import jax\n",
    "import chex\n",
    "action_space = spaces.Box(-1.0,1.0,shape=(2,3),dtype=np.float32)\n",
    "rng = jax.random.PRNGKey(0)\n",
    "action_space.sample(rng=rng)\n"
   ]
  },
  {
   "cell_type": "code",
   "execution_count": 7,
   "metadata": {},
   "outputs": [
    {
     "data": {
      "text/plain": [
       "Action(thrust=array([1., 1.]), tau=array([0.5, 0.5]))"
      ]
     },
     "execution_count": 7,
     "metadata": {},
     "output_type": "execute_result"
    }
   ],
   "source": [
    "\n",
    "from quadjax.dynamics.dataclass import Action\n",
    "import numpy as np\n",
    "thrust = 1.0\n",
    "tau = 0.5\n",
    "env_action = Action(thrust=np.array([thrust, thrust]), tau = np.array([tau, tau]))\n",
    "env_action\n"
   ]
  },
  {
   "cell_type": "code",
   "execution_count": null,
   "metadata": {},
   "outputs": [],
   "source": [
    "import sympy as sp\n",
    "from sympy.physics.mechanics import (\n",
    "    dynamicsymbols,\n",
    "    ReferenceFrame,\n",
    "    Point,\n",
    "    Particle,\n",
    "    RigidBody,\n",
    "    inertia,\n",
    ")\n",
    "\n",
    "# Define symbols\n",
    "t = sp.Symbol(\"t\")  # time\n",
    "m = sp.Symbol(\"m\", positive=True)  # mass of the quadrotor\n",
    "I = sp.Symbol(\"I\", positive=True)  # moment of inertia\n",
    "g = sp.Symbol(\"g\", positive=True)  # gravitational acceleration\n",
    "l = sp.Symbol(\"l\", positive=True)  # length of the rod\n",
    "# mass of the object attached to the rod\n",
    "mo = sp.Symbol(\"mo\", positive=True)\n",
    "thrust = sp.Function(\"thrust\")(t)  # thrust force\n",
    "tau = sp.Function(\"tau\")(t)  # torque\n",
    "f_rope = sp.Symbol(\"f_rope\")  # force in the rope\n",
    "# y displacement of the hook from the quadrotor center\n",
    "delta_yh = sp.Symbol(\"delta_yh\")\n",
    "# z displacement of the hook from the quadrotor center\n",
    "delta_zh = sp.Symbol(\"delta_zh\")\n",
    "params = [m, I, g, l, mo, delta_yh, delta_zh]\n",
    "action = [thrust, tau]\n",
    "\n",
    "\n",
    "y, z, theta, phi = dynamicsymbols(\"y z theta phi\")\n",
    "y_dot, z_dot, theta_dot, phi_dot = sp.diff(y, t), sp.diff(\n",
    "    z, t), sp.diff(theta, t), sp.diff(phi, t)\n",
    "y_ddot, z_ddot, theta_ddot, phi_ddot = sp.diff(y_dot, t), sp.diff(\n",
    "    z_dot, t), sp.diff(theta_dot, t), sp.diff(phi_dot, t)\n",
    "y_dot_val, z_dot_val, theta_dot_val, phi_dot_val = sp.symbols(\n",
    "    \"y_dot_val z_dot_val theta_dot_val phi_dot_val\")\n",
    "y_ddot_val, z_ddot_val, theta_ddot_val, phi_ddot_val = sp.symbols(\n",
    "    \"y_ddot_val z_ddot_val theta_ddot_val phi_ddot_val\")\n",
    "states = [y, z, theta, phi, y_dot, z_dot, theta_dot, phi_dot]\n",
    "states_val = [y, z, theta, phi, y_dot_val,\n",
    "                z_dot_val, theta_dot_val, phi_dot_val]\n",
    "states_dot = [y_ddot, z_ddot, theta_ddot, phi_ddot, f_rope]\n",
    "states_dot_val = [y_ddot_val, z_ddot_val,\n",
    "                    theta_ddot_val, phi_ddot_val, f_rope]\n",
    "\n",
    "states_val = [y, z, theta, phi, y_dot_val,\n",
    "                  z_dot_val, theta_dot_val, phi_dot_val]\n",
    "\n",
    "# Solve for the acceleration\n",
    "A_taut_dyn = sp.zeros(5, 5)\n",
    "b_taut_dyn = sp.zeros(5, 1)\n",
    "\n",
    "# lambda A_taut_dyn\n",
    "A_taut_dyn_func = sp.lambdify(\n",
    "    params + states_val + action, A_taut_dyn, \"jax\")\n",
    "b_taut_dyn_func = sp.lambdify(\n",
    "    params + states_val + action, b_taut_dyn, \"jax\")"
   ]
  },
  {
   "cell_type": "code",
   "execution_count": 1,
   "metadata": {},
   "outputs": [
    {
     "data": {
      "text/plain": [
       "(l1*q1d*N.y, 2*l1*q1d*N.y)"
      ]
     },
     "execution_count": 1,
     "metadata": {},
     "output_type": "execute_result"
    }
   ],
   "source": [
    "from sympy import symbols\n",
    "from sympy.physics.mechanics import dynamicsymbols, ReferenceFrame\n",
    "from sympy.physics.mechanics import RigidBody, Particle, Point, outer\n",
    "from sympy.physics.mechanics import linear_momentum, angular_momentum\n",
    "from sympy.physics.vector import init_vprinting\n",
    "init_vprinting(pretty_print=False)\n",
    "m, M, l1 = symbols('m M l1')\n",
    "q1d = dynamicsymbols('q1d')\n",
    "N = ReferenceFrame('N')\n",
    "O = Point('O')\n",
    "O.set_vel(N, 0 * N.x)\n",
    "Ac = O.locatenew('Ac', l1 * N.x)\n",
    "P = Ac.locatenew('P', l1 * N.x)\n",
    "a = ReferenceFrame('a')\n",
    "a.set_ang_vel(N, q1d * N.z)\n",
    "Ac.v2pt_theory(O, N, a), P.v2pt_theory(O, N, a)"
   ]
  },
  {
   "cell_type": "code",
   "execution_count": 1,
   "metadata": {},
   "outputs": [
    {
     "name": "stderr",
     "output_type": "stream",
     "text": [
      "/home/bianzx/miniconda3/envs/pytorch3d/lib/python3.9/site-packages/flax/core/frozen_dict.py:169: FutureWarning: jax.tree_util.register_keypaths is deprecated, and will be removed in a future release. Please use `register_pytree_with_keys()` instead.\n",
      "  jax.tree_util.register_keypaths(\n"
     ]
    },
    {
     "data": {
      "text/plain": [
       "(<function _lambdifygenerated(m, I, g, l, mo, delta_yh, delta_zh, delta_yh2, delta_zh2, _Dummy_39, _Dummy_37, _Dummy_43, _Dummy_47, y_dot_val, z_dot_val, theta_dot_val, phi_dot_val, _Dummy_38, _Dummy_36, _Dummy_42, _Dummy_46, y2_dot_val, z2_dot_val, theta2_dot_val, phi2_dot_val, _Dummy_41, _Dummy_45, _Dummy_40, _Dummy_44)>,\n",
       " <function _lambdifygenerated(m, I, g, l, mo, delta_yh, delta_zh, delta_yh2, delta_zh2, _Dummy_51, _Dummy_49, _Dummy_55, _Dummy_59, y_dot_val, z_dot_val, theta_dot_val, phi_dot_val, _Dummy_50, _Dummy_48, _Dummy_54, _Dummy_58, y2_dot_val, z2_dot_val, theta2_dot_val, phi2_dot_val, _Dummy_53, _Dummy_57, _Dummy_52, _Dummy_56)>)"
      ]
     },
     "execution_count": 1,
     "metadata": {},
     "output_type": "execute_result"
    }
   ],
   "source": [
    "import sympy as sp\n",
    "from sympy.physics.mechanics import (\n",
    "dynamicsymbols,\n",
    "ReferenceFrame,\n",
    "Point,\n",
    "Particle,\n",
    "RigidBody,\n",
    "inertia,\n",
    ")\n",
    "from jax import numpy as jnp\n",
    "from functools import partial\n",
    "import sys\n",
    "sys.path.append(\"/home/bianzx/jax/quadjax/\")\n",
    "from quadjax.dynamics.utils import angle_normalize\n",
    "from quadjax.dynamics import geom\n",
    "from quadjax.dynamics.dataclass import EnvParams, EnvState, Action, EnvParams3D, EnvState3D, Action3D\n",
    "from typing import Tuple\n",
    "from jax import jit\n",
    "import numpy as np\n",
    "\n",
    "\n",
    "# def get_taut_dynamics():\n",
    "\n",
    "# Define symbols\n",
    "t = sp.Symbol(\"t\")  # time\n",
    "m = sp.Symbol(\"m\", positive=True)  # mass of the quadrotor\n",
    "I = sp.Symbol(\"I\", positive=True)  # moment of inertia\n",
    "g = sp.Symbol(\"g\", positive=True)  # gravitational acceleration\n",
    "l = sp.Symbol(\"l\", positive=True)  # length of the rod\n",
    "# mass of the object attached to the rod\n",
    "mo = sp.Symbol(\"mo\", positive=True)\n",
    "thrust = sp.Function(\"thrust\")(t)  # thrust force\n",
    "tau = sp.Function(\"tau\")(t)  # torque\n",
    "f_rope = sp.Symbol(\"f_rope\")  # force in the rope\n",
    "thrust2 = sp.Function(\"thrust2\")(t)  # thrust force\n",
    "tau2 = sp.Function(\"tau2\")(t)  # torque\n",
    "f_rope2 = sp.Symbol(\"f_rope2\")  # force in the rope\n",
    "# y displacement of the hook from the quadrotor center\n",
    "delta_yh = sp.Symbol(\"delta_yh\")\n",
    "# z displacement of the hook from the quadrotor center\n",
    "delta_zh = sp.Symbol(\"delta_zh\")\n",
    "# y displacement of the hook from the quadrotor center\n",
    "delta_yh2 = sp.Symbol(\"delta_yh2\")\n",
    "# z displacement of the hook from the quadrotor center\n",
    "delta_zh2 = sp.Symbol(\"delta_zh2\")\n",
    "# TODO...\n",
    "params = [m, I, g, l, mo, delta_yh, delta_zh, delta_yh2, delta_zh2]\n",
    "# action = [thrust, tau]\n",
    "action = [thrust, tau, thrust2, tau2]\n",
    "\n",
    "# Define state variables and their derivatives\n",
    "y, z, theta, phi = dynamicsymbols(\"y z theta phi\")\n",
    "y_dot, z_dot, theta_dot, phi_dot = sp.diff(y, t), sp.diff(\n",
    "    z, t), sp.diff(theta, t), sp.diff(phi, t)\n",
    "y_ddot, z_ddot, theta_ddot, phi_ddot = sp.diff(y_dot, t), sp.diff(\n",
    "    z_dot, t), sp.diff(theta_dot, t), sp.diff(phi_dot, t)\n",
    "y_dot_val, z_dot_val, theta_dot_val, phi_dot_val = sp.symbols(\n",
    "    \"y_dot_val z_dot_val theta_dot_val phi_dot_val\")\n",
    "y_ddot_val, z_ddot_val, theta_ddot_val, phi_ddot_val = sp.symbols(\n",
    "    \"y_ddot_val z_ddot_val theta_ddot_val phi_ddot_val\")\n",
    "# states = [y, z, theta, phi, y_dot, z_dot, theta_dot, phi_dot]\n",
    "# states_val = [y, z, theta, phi, y_dot_val,\n",
    "#               z_dot_val, theta_dot_val, phi_dot_val]\n",
    "# states_dot = [y_ddot, z_ddot, theta_ddot, phi_ddot, f_rope]\n",
    "# states_dot_val = [y_ddot_val, z_ddot_val,\n",
    "#                   theta_ddot_val, phi_ddot_val, f_rope]\n",
    "\n",
    "y2, z2, theta2, phi2 = dynamicsymbols(\"y2 z2 theta2 phi2\")\n",
    "y2_dot, z2_dot, theta2_dot, phi2_dot = sp.diff(y2, t), sp.diff(\n",
    "    z2, t), sp.diff(theta2, t), sp.diff(phi2, t)\n",
    "y2_ddot, z2_ddot, theta2_ddot, phi2_ddot = sp.diff(y2_dot, t), sp.diff(\n",
    "    z2_dot, t), sp.diff(theta2_dot, t), sp.diff(phi2_dot, t)\n",
    "y2_dot_val, z2_dot_val, theta2_dot_val, phi2_dot_val = sp.symbols(\n",
    "    \"y2_dot_val z2_dot_val theta2_dot_val phi2_dot_val\")\n",
    "y2_ddot_val, z2_ddot_val, theta2_ddot_val, phi2_ddot_val = sp.symbols(\n",
    "    \"y2_ddot_val z2_ddot_val theta2_ddot_val phi2_ddot_val\")\n",
    "\n",
    "states = [y, z, theta, phi, y_dot, z_dot, theta_dot, phi_dot,\n",
    "        y2, z2, theta2, phi2, y2_dot, z2_dot, theta2_dot, phi2_dot]\n",
    "states_val = [y, z, theta, phi, y_dot_val,\n",
    "                z_dot_val, theta_dot_val, phi_dot_val, \n",
    "                y2, z2, theta2, phi2, y2_dot_val, z2_dot_val, theta2_dot_val, phi2_dot_val]\n",
    "states_dot = [y_ddot, z_ddot, theta_ddot, phi_ddot, f_rope, y2_ddot, z2_ddot, theta2_ddot, phi2_ddot, f_rope2]\n",
    "states_dot_val = [y_ddot_val, z_ddot_val,\n",
    "                    theta_ddot_val, phi_ddot_val, f_rope, \n",
    "                    y2_ddot_val, z2_ddot_val,\n",
    "                    theta2_ddot_val, phi2_ddot_val, f_rope2]\n",
    "\n",
    "# intermediate variables\n",
    "delta_yh_global = delta_yh * sp.cos(theta) - delta_zh * sp.sin(theta)\n",
    "delta_zh_global = delta_yh * sp.sin(theta) + delta_zh * sp.cos(theta)\n",
    "f_rope_y = f_rope * sp.sin(theta+phi)\n",
    "f_rope_z = -f_rope * sp.cos(theta+phi)\n",
    "y_hook = y + delta_yh_global\n",
    "z_hook = z + delta_zh_global\n",
    "y_hook_dot = sp.diff(y_hook, t)\n",
    "z_hook_dot = sp.diff(z_hook, t)\n",
    "y_obj = y_hook + l * sp.sin(theta+phi)\n",
    "z_obj = z_hook - l * sp.cos(theta+phi)\n",
    "y_obj_dot = sp.diff(y_obj, t)\n",
    "z_obj_dot = sp.diff(z_obj, t)\n",
    "y_obj_ddot = sp.diff(y_obj_dot, t)\n",
    "z_obj_ddot = sp.diff(z_obj_dot, t)\n",
    "obses = [y_obj, z_obj, y_obj_dot, z_obj_dot,\n",
    "            y_obj_ddot, z_obj_ddot, f_rope_y, f_rope_z]\n",
    "\n",
    "delta_yh2_global = delta_yh2 * sp.cos(theta2) - delta_zh * sp.sin(theta2)\n",
    "delta_zh2_global = delta_yh2 * sp.sin(theta2) + delta_zh * sp.cos(theta2)\n",
    "f_rope2_y = f_rope2 * sp.sin(theta2+phi2)\n",
    "f_rope2_z = -f_rope2 * sp.cos(theta2+phi2)\n",
    "y_hook2 = y2 + delta_yh2_global\n",
    "z_hook2 = z2 + delta_zh2_global\n",
    "y_hook2_dot = sp.diff(y_hook2, t)\n",
    "z_hook2_dot = sp.diff(z_hook2, t)\n",
    "# obses = [y_obj, z_obj, y_obj_dot, z_obj_dot,\n",
    "#          y_obj_ddot, z_obj_ddot, f_rope_y, f_rope_z]\n",
    "\n",
    "\n",
    "# Define inertial reference frame\n",
    "N = ReferenceFrame(\"N\")\n",
    "N_origin = Point('N_origin')\n",
    "A = N.orientnew(\"A\", \"Axis\", [theta, N.x])\n",
    "B = A.orientnew(\"B\", \"Axis\", [phi, A.x])\n",
    "\n",
    "# Define point\n",
    "drone = Point(\"drone\")\n",
    "drone.set_pos(N_origin, y * N.y + z * N.z)\n",
    "hook = drone.locatenew(\"hook\", delta_yh * A.y + delta_zh * A.z)\n",
    "drone2 = Point(\"drone2\")\n",
    "drone2.set_pos(N_origin, y2 * N.y + z2 * N.z)\n",
    "hook2 = drone2.locatenew(\"hook2\", delta_yh2 * A.y + delta_zh2 * A.z)\n",
    "obj = hook.locatenew(\"obj\", -l * B.z)\n",
    "drone.set_vel(N, y_dot * N.y + z_dot * N.z)\n",
    "drone2.set_vel(N, y2_dot * N.y + z2_dot * N.z)\n",
    "\n",
    "# Inertia\n",
    "inertia_quadrotor = inertia(N, I, 0, 0)\n",
    "quadrotor = RigidBody(\"quadrotor\", drone, A, m, (inertia_quadrotor, drone))\n",
    "quadrotor2 = RigidBody(\"quadrotor2\", drone2, A, m, (inertia_quadrotor, drone2))\n",
    "obj_particle = Particle(\"obj_particle\", obj, mo)\n",
    "\n",
    "# Newton's law\n",
    "# 8 equations\n",
    "eq_quad_y = -thrust * sp.sin(theta) + f_rope_y - m * y_ddot\n",
    "eq_quad_z = thrust * sp.cos(theta) + f_rope_z - m * g - m * z_ddot\n",
    "eq_quad_theta = tau + delta_yh_global * f_rope_z - \\\n",
    "    delta_zh_global * f_rope_y - I * theta_ddot\n",
    "# eq_obj_y = -f_rope_y - mo * y_obj_ddot\n",
    "# eq_obj_z = -f_rope_z - mo * g - mo * z_obj_ddot\n",
    "\n",
    "eq_quad_y2 = -thrust2 * sp.sin(theta2) + f_rope2_y - m * y2_ddot\n",
    "eq_quad_z2 = thrust2 * sp.cos(theta2) + f_rope2_z - m * g - m * z2_ddot\n",
    "eq_quad_theta2 = tau2 + delta_yh2_global * f_rope2_z - \\\n",
    "    delta_zh2_global * f_rope2_y - I * theta2_ddot\n",
    "eq_obj_y = -f_rope_y -f_rope2_y - mo * y_obj_ddot\n",
    "eq_obj_z = -f_rope_z -f_rope2_z - mo * g - mo * z_obj_ddot\n",
    "\n",
    "# TODO...\n",
    "eqs = [eq_quad_y, eq_quad_z, eq_quad_theta, eq_obj_y, eq_obj_z, eq_quad_y2, eq_quad_z2, eq_quad_theta2]\n",
    "eqs = [eq.expand() for eq in eqs]\n",
    "eqs = [eq.subs([(states_dot[i], states_dot_val[i])\n",
    "                for i in range(len(states_dot))]) for eq in eqs]\n",
    "eqs = [eq.subs([(states[i], states_val[i])\n",
    "                for i in range(len(states))]) for eq in eqs]\n",
    "# Solve for the acceleration\n",
    "A_taut_dyn = sp.zeros(8, 8)\n",
    "b_taut_dyn = sp.zeros(8, 1)\n",
    "for i in range(8):\n",
    "    for j in range(8):\n",
    "        A_taut_dyn[i, j] = eqs[i].coeff(states_dot_val[j])\n",
    "    b_taut_dyn[i] = -eqs[i].subs([(states_dot_val[j], 0)\n",
    "                                    for j in range(8)])\n",
    "# lambda A_taut_dyn\n",
    "A_taut_dyn_func = sp.lambdify(\n",
    "    params + states_val + action, A_taut_dyn, \"jax\")\n",
    "b_taut_dyn_func = sp.lambdify(\n",
    "    params + states_val + action, b_taut_dyn, \"jax\")\n",
    "params + states_val + action\n",
    "A_taut_dyn_func,b_taut_dyn_func"
   ]
  },
  {
   "cell_type": "code",
   "execution_count": 38,
   "metadata": {},
   "outputs": [
    {
     "data": {
      "text/plain": [
       "(3.0, 3.0, 4.0, 4.0)"
      ]
     },
     "execution_count": 38,
     "metadata": {},
     "output_type": "execute_result"
    }
   ],
   "source": [
    "\n",
    "a = Action(3.0,3.0)\n",
    "b = Action(4.0,4.0)\n",
    "x = (a,b)\n",
    "x[0].thrust,x[0].tau,x[1].thrust,x[1].tau\n"
   ]
  },
  {
   "cell_type": "code",
   "execution_count": 12,
   "metadata": {},
   "outputs": [
    {
     "data": {
      "text/plain": [
       "<function __main__.<lambda>(obs, rng)>"
      ]
     },
     "execution_count": 12,
     "metadata": {},
     "output_type": "execute_result"
    }
   ],
   "source": [
    "from gymnax.environments import environment, spaces\n",
    "import numpy as np\n",
    "import jax\n",
    "import chex\n",
    "# action_space = spaces.Box(-1.0,1.0,shape=(2,3),dtype=np.float32)\n",
    "action_space= spaces.Box(\n",
    "            low=-1.0,\n",
    "            high=1.0,\n",
    "            shape=(4,),\n",
    "            dtype=jnp.float32,\n",
    "        )\n",
    "rng = jax.random.PRNGKey(0)\n",
    "action_space.sample(rng=rng)\n",
    "# action_space\n",
    "random_policy = lambda obs, rng: action_space(EnvParams()).sample(rng)\n",
    "\n",
    "random_policy"
   ]
  },
  {
   "cell_type": "code",
   "execution_count": 1,
   "metadata": {},
   "outputs": [
    {
     "name": "stdout",
     "output_type": "stream",
     "text": [
      "🤯 0.9092974662780762 🤯\n",
      "🤯 2.0 🤯\n"
     ]
    },
    {
     "data": {
      "text/plain": [
       "Array(0.90929747, dtype=float32, weak_type=True)"
      ]
     },
     "execution_count": 1,
     "metadata": {},
     "output_type": "execute_result"
    }
   ],
   "source": [
    "import jax\n",
    "import jax.numpy as jnp\n",
    "\n",
    "@jax.jit\n",
    "def f(x):\n",
    "  jax.debug.print(\"🤯 {x} 🤯\", x=x)\n",
    "  y = jnp.sin(x)\n",
    "  jax.debug.print(\"🤯 {y} 🤯\", y=y)\n",
    "  return y\n",
    "\n",
    "f(2.)\n",
    "# Prints:\n",
    "# 🤯 2.0 🤯\n",
    "# 🤯 0.9092974662780762 🤯"
   ]
  }
 ],
 "metadata": {
  "kernelspec": {
   "display_name": "Python 3.9.16 ('pytorch3d')",
   "language": "python",
   "name": "python3"
  },
  "language_info": {
   "codemirror_mode": {
    "name": "ipython",
    "version": 3
   },
   "file_extension": ".py",
   "mimetype": "text/x-python",
   "name": "python",
   "nbconvert_exporter": "python",
   "pygments_lexer": "ipython3",
   "version": "3.9.16"
  },
  "orig_nbformat": 4,
  "vscode": {
   "interpreter": {
    "hash": "53203b611aca516efce8df497607d21cf30c25d4588adfa3e19897f1a0d04e28"
   }
  }
 },
 "nbformat": 4,
 "nbformat_minor": 2
}
