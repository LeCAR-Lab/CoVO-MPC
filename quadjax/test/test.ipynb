{
 "cells": [
  {
   "cell_type": "code",
   "execution_count": 2,
   "metadata": {},
   "outputs": [
    {
     "data": {
      "text/plain": [
       "array([1.38177329, 0.49315059])"
      ]
     },
     "execution_count": 2,
     "metadata": {},
     "output_type": "execute_result"
    }
   ],
   "source": [
    "from sympy import sin, cos, symbols, lambdify\n",
    "import numpy as np\n",
    "x = symbols('x')\n",
    "expr = sin(x) + cos(x)\n",
    "expr\n",
    "f = lambdify(x, expr, 'numpy')\n",
    "a = np.array([1, 2])\n",
    "f(a)\n",
    "# type(f(a))"
   ]
  },
  {
   "cell_type": "code",
   "execution_count": 15,
   "metadata": {},
   "outputs": [
    {
     "ename": "TypeError",
     "evalue": "Cannot instantiate typing.Union",
     "output_type": "error",
     "traceback": [
      "\u001b[0;31m---------------------------------------------------------------------------\u001b[0m",
      "\u001b[0;31mTypeError\u001b[0m                                 Traceback (most recent call last)",
      "Cell \u001b[0;32mIn[15], line 5\u001b[0m\n\u001b[1;32m      3\u001b[0m \u001b[39mimport\u001b[39;00m \u001b[39mchex\u001b[39;00m\n\u001b[1;32m      4\u001b[0m action_space \u001b[39m=\u001b[39m spaces\u001b[39m.\u001b[39mBox(\u001b[39m-\u001b[39m\u001b[39m1.0\u001b[39m,\u001b[39m1.0\u001b[39m,shape\u001b[39m=\u001b[39m(\u001b[39m2\u001b[39m,\u001b[39m3\u001b[39m),dtype\u001b[39m=\u001b[39mnp\u001b[39m.\u001b[39mfloat32)\n\u001b[0;32m----> 5\u001b[0m action_space\u001b[39m.\u001b[39msample(rng\u001b[39m=\u001b[39mchex\u001b[39m.\u001b[39;49mPRNGKey(\u001b[39m1\u001b[39;49m))\n",
      "File \u001b[0;32m~/miniconda3/envs/pytorch3d/lib/python3.9/typing.py:687\u001b[0m, in \u001b[0;36m_BaseGenericAlias.__call__\u001b[0;34m(self, *args, **kwargs)\u001b[0m\n\u001b[1;32m    684\u001b[0m \u001b[39mif\u001b[39;00m \u001b[39mnot\u001b[39;00m \u001b[39mself\u001b[39m\u001b[39m.\u001b[39m_inst:\n\u001b[1;32m    685\u001b[0m     \u001b[39mraise\u001b[39;00m \u001b[39mTypeError\u001b[39;00m(\u001b[39mf\u001b[39m\u001b[39m\"\u001b[39m\u001b[39mType \u001b[39m\u001b[39m{\u001b[39;00m\u001b[39mself\u001b[39m\u001b[39m.\u001b[39m_name\u001b[39m}\u001b[39;00m\u001b[39m cannot be instantiated; \u001b[39m\u001b[39m\"\u001b[39m\n\u001b[1;32m    686\u001b[0m                     \u001b[39mf\u001b[39m\u001b[39m\"\u001b[39m\u001b[39muse \u001b[39m\u001b[39m{\u001b[39;00m\u001b[39mself\u001b[39m\u001b[39m.\u001b[39m__origin__\u001b[39m.\u001b[39m\u001b[39m__name__\u001b[39m\u001b[39m}\u001b[39;00m\u001b[39m() instead\u001b[39m\u001b[39m\"\u001b[39m)\n\u001b[0;32m--> 687\u001b[0m result \u001b[39m=\u001b[39m \u001b[39mself\u001b[39;49m\u001b[39m.\u001b[39;49m__origin__(\u001b[39m*\u001b[39;49margs, \u001b[39m*\u001b[39;49m\u001b[39m*\u001b[39;49mkwargs)\n\u001b[1;32m    688\u001b[0m \u001b[39mtry\u001b[39;00m:\n\u001b[1;32m    689\u001b[0m     result\u001b[39m.\u001b[39m__orig_class__ \u001b[39m=\u001b[39m \u001b[39mself\u001b[39m\n",
      "File \u001b[0;32m~/miniconda3/envs/pytorch3d/lib/python3.9/typing.py:344\u001b[0m, in \u001b[0;36m_SpecialForm.__call__\u001b[0;34m(self, *args, **kwds)\u001b[0m\n\u001b[1;32m    343\u001b[0m \u001b[39mdef\u001b[39;00m \u001b[39m__call__\u001b[39m(\u001b[39mself\u001b[39m, \u001b[39m*\u001b[39margs, \u001b[39m*\u001b[39m\u001b[39m*\u001b[39mkwds):\n\u001b[0;32m--> 344\u001b[0m     \u001b[39mraise\u001b[39;00m \u001b[39mTypeError\u001b[39;00m(\u001b[39mf\u001b[39m\u001b[39m\"\u001b[39m\u001b[39mCannot instantiate \u001b[39m\u001b[39m{\u001b[39;00m\u001b[39mself\u001b[39m\u001b[39m!r}\u001b[39;00m\u001b[39m\"\u001b[39m)\n",
      "\u001b[0;31mTypeError\u001b[0m: Cannot instantiate typing.Union"
     ]
    }
   ],
   "source": [
    "from gymnax.environments import environment, spaces\n",
    "import numpy as np\n",
    "import jax\n",
    "import chex\n",
    "action_space = spaces.Box(-1.0,1.0,shape=(2,3),dtype=np.float32)\n",
    "rng = jax.random.PRNGKey(0)\n",
    "action_space.sample(rng=rng)\n"
   ]
  },
  {
   "cell_type": "code",
   "execution_count": 7,
   "metadata": {},
   "outputs": [
    {
     "data": {
      "text/plain": [
       "Action(thrust=array([1., 1.]), tau=array([0.5, 0.5]))"
      ]
     },
     "execution_count": 7,
     "metadata": {},
     "output_type": "execute_result"
    }
   ],
   "source": [
    "\n",
    "from quadjax.dynamics.dataclass import Action\n",
    "import numpy as np\n",
    "thrust = 1.0\n",
    "tau = 0.5\n",
    "env_action = Action(thrust=np.array([thrust, thrust]), tau = np.array([tau, tau]))\n",
    "env_action\n"
   ]
  },
  {
   "cell_type": "code",
   "execution_count": null,
   "metadata": {},
   "outputs": [],
   "source": [
    "import sympy as sp\n",
    "from sympy.physics.mechanics import (\n",
    "    dynamicsymbols,\n",
    "    ReferenceFrame,\n",
    "    Point,\n",
    "    Particle,\n",
    "    RigidBody,\n",
    "    inertia,\n",
    ")\n",
    "\n",
    "# Define symbols\n",
    "t = sp.Symbol(\"t\")  # time\n",
    "m = sp.Symbol(\"m\", positive=True)  # mass of the quadrotor\n",
    "I = sp.Symbol(\"I\", positive=True)  # moment of inertia\n",
    "g = sp.Symbol(\"g\", positive=True)  # gravitational acceleration\n",
    "l = sp.Symbol(\"l\", positive=True)  # length of the rod\n",
    "# mass of the object attached to the rod\n",
    "mo = sp.Symbol(\"mo\", positive=True)\n",
    "thrust = sp.Function(\"thrust\")(t)  # thrust force\n",
    "tau = sp.Function(\"tau\")(t)  # torque\n",
    "f_rope = sp.Symbol(\"f_rope\")  # force in the rope\n",
    "# y displacement of the hook from the quadrotor center\n",
    "delta_yh = sp.Symbol(\"delta_yh\")\n",
    "# z displacement of the hook from the quadrotor center\n",
    "delta_zh = sp.Symbol(\"delta_zh\")\n",
    "params = [m, I, g, l, mo, delta_yh, delta_zh]\n",
    "action = [thrust, tau]\n",
    "\n",
    "\n",
    "y, z, theta, phi = dynamicsymbols(\"y z theta phi\")\n",
    "y_dot, z_dot, theta_dot, phi_dot = sp.diff(y, t), sp.diff(\n",
    "    z, t), sp.diff(theta, t), sp.diff(phi, t)\n",
    "y_ddot, z_ddot, theta_ddot, phi_ddot = sp.diff(y_dot, t), sp.diff(\n",
    "    z_dot, t), sp.diff(theta_dot, t), sp.diff(phi_dot, t)\n",
    "y_dot_val, z_dot_val, theta_dot_val, phi_dot_val = sp.symbols(\n",
    "    \"y_dot_val z_dot_val theta_dot_val phi_dot_val\")\n",
    "y_ddot_val, z_ddot_val, theta_ddot_val, phi_ddot_val = sp.symbols(\n",
    "    \"y_ddot_val z_ddot_val theta_ddot_val phi_ddot_val\")\n",
    "states = [y, z, theta, phi, y_dot, z_dot, theta_dot, phi_dot]\n",
    "states_val = [y, z, theta, phi, y_dot_val,\n",
    "                z_dot_val, theta_dot_val, phi_dot_val]\n",
    "states_dot = [y_ddot, z_ddot, theta_ddot, phi_ddot, f_rope]\n",
    "states_dot_val = [y_ddot_val, z_ddot_val,\n",
    "                    theta_ddot_val, phi_ddot_val, f_rope]\n",
    "\n",
    "states_val = [y, z, theta, phi, y_dot_val,\n",
    "                  z_dot_val, theta_dot_val, phi_dot_val]\n",
    "\n",
    "# Solve for the acceleration\n",
    "A_taut_dyn = sp.zeros(5, 5)\n",
    "b_taut_dyn = sp.zeros(5, 1)\n",
    "\n",
    "# lambda A_taut_dyn\n",
    "A_taut_dyn_func = sp.lambdify(\n",
    "    params + states_val + action, A_taut_dyn, \"jax\")\n",
    "b_taut_dyn_func = sp.lambdify(\n",
    "    params + states_val + action, b_taut_dyn, \"jax\")"
   ]
  }
 ],
 "metadata": {
  "kernelspec": {
   "display_name": "Python 3.9.16 ('pytorch3d')",
   "language": "python",
   "name": "python3"
  },
  "language_info": {
   "codemirror_mode": {
    "name": "ipython",
    "version": 3
   },
   "file_extension": ".py",
   "mimetype": "text/x-python",
   "name": "python",
   "nbconvert_exporter": "python",
   "pygments_lexer": "ipython3",
   "version": "3.9.16"
  },
  "orig_nbformat": 4,
  "vscode": {
   "interpreter": {
    "hash": "53203b611aca516efce8df497607d21cf30c25d4588adfa3e19897f1a0d04e28"
   }
  }
 },
 "nbformat": 4,
 "nbformat_minor": 2
}
