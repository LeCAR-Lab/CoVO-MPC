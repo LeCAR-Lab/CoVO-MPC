{
 "cells": [
  {
   "cell_type": "code",
   "execution_count": 3,
   "metadata": {},
   "outputs": [
    {
     "name": "stderr",
     "output_type": "stream",
     "text": [
      "/home/bianzx/miniconda3/envs/pytorch3d/lib/python3.9/site-packages/flax/core/frozen_dict.py:169: FutureWarning: jax.tree_util.register_keypaths is deprecated, and will be removed in a future release. Please use `register_pytree_with_keys()` instead.\n",
      "  jax.tree_util.register_keypaths(\n"
     ]
    }
   ],
   "source": [
    "import sympy as sp\n",
    "from jax import numpy as jnp\n",
    "import sys\n",
    "sys.path.append(\"/home/bianzx/jax/quadjax/\")\n",
    "from quadjax.dynamics.utils import angle_normalize\n",
    "from quadjax.dynamics.dataclass import EnvParams, EnvState, Action"
   ]
  },
  {
   "cell_type": "code",
   "execution_count": 4,
   "metadata": {},
   "outputs": [
    {
     "data": {
      "text/latex": [
       "$\\displaystyle \\left[\\begin{matrix}- m & 0 & 0 & 0 & \\sin{\\left(\\phi + \\theta \\right)} & 0 & 0 & 0 & 0 & 0\\\\0 & - m & 0 & 0 & - \\cos{\\left(\\phi + \\theta \\right)} & 0 & 0 & 0 & 0 & 0\\\\0 & 0 & 0 & 0 & 0 & - m & 0 & 0 & 0 & \\sin{\\left(\\phi_{2} + \\theta_{2} \\right)}\\\\0 & 0 & 0 & 0 & 0 & 0 & - m & 0 & 0 & - \\cos{\\left(\\phi_{2} + \\theta_{2} \\right)}\\\\- mo & 0 & \\delta_{yh} mo \\sin{\\left(\\theta \\right)} + \\delta_{zh} mo \\cos{\\left(\\theta \\right)} - l mo \\cos{\\left(\\phi + \\theta \\right)} & - l mo \\cos{\\left(\\phi + \\theta \\right)} & - \\sin{\\left(\\phi + \\theta \\right)} & 0 & 0 & 0 & 0 & - \\sin{\\left(\\phi_{2} + \\theta_{2} \\right)}\\\\0 & - mo & - \\delta_{yh} mo \\cos{\\left(\\theta \\right)} + \\delta_{zh} mo \\sin{\\left(\\theta \\right)} - l mo \\sin{\\left(\\phi + \\theta \\right)} & - l mo \\sin{\\left(\\phi + \\theta \\right)} & \\cos{\\left(\\phi + \\theta \\right)} & 0 & 0 & 0 & 0 & \\cos{\\left(\\phi_{2} + \\theta_{2} \\right)}\\\\0 & 0 & - I & 0 & - \\delta_{yh} \\cos{\\left(\\phi + \\theta \\right)} - \\delta_{zh} \\sin{\\left(\\phi + \\theta \\right)} & 0 & 0 & 0 & 0 & 0\\\\0 & 0 & 0 & 0 & 0 & 0 & 0 & - I & 0 & - \\delta_{yh2} \\cos{\\left(\\phi_{2} + \\theta_{2} \\right)} - \\delta_{zh2} \\sin{\\left(\\phi_{2} + \\theta_{2} \\right)}\\\\1 & 0 & - \\delta_{yh} \\sin{\\left(\\theta \\right)} - \\delta_{zh} \\cos{\\left(\\theta \\right)} & 0 & 0 & -1 & 0 & \\delta_{yh2} \\sin{\\left(\\theta_{2} \\right)} + \\delta_{zh2} \\cos{\\left(\\theta_{2} \\right)} & 0 & 0\\\\0 & 1 & \\delta_{yh} \\cos{\\left(\\theta \\right)} - \\delta_{zh} \\sin{\\left(\\theta \\right)} & 0 & 0 & 0 & -1 & - \\delta_{yh2} \\cos{\\left(\\theta_{2} \\right)} + \\delta_{zh2} \\sin{\\left(\\theta_{2} \\right)} & 0 & 0\\end{matrix}\\right]$"
      ],
      "text/plain": [
       "Matrix([\n",
       "[ -m,   0,                                                                        0,                      0,                                       sin(phi + theta),  0,  0,                                              0, 0,                                                            0],\n",
       "[  0,  -m,                                                                        0,                      0,                                      -cos(phi + theta),  0,  0,                                              0, 0,                                                            0],\n",
       "[  0,   0,                                                                        0,                      0,                                                      0, -m,  0,                                              0, 0,                                           sin(phi2 + theta2)],\n",
       "[  0,   0,                                                                        0,                      0,                                                      0,  0, -m,                                              0, 0,                                          -cos(phi2 + theta2)],\n",
       "[-mo,   0,  delta_yh*mo*sin(theta) + delta_zh*mo*cos(theta) - l*mo*cos(phi + theta), -l*mo*cos(phi + theta),                                      -sin(phi + theta),  0,  0,                                              0, 0,                                          -sin(phi2 + theta2)],\n",
       "[  0, -mo, -delta_yh*mo*cos(theta) + delta_zh*mo*sin(theta) - l*mo*sin(phi + theta), -l*mo*sin(phi + theta),                                       cos(phi + theta),  0,  0,                                              0, 0,                                           cos(phi2 + theta2)],\n",
       "[  0,   0,                                                                       -I,                      0, -delta_yh*cos(phi + theta) - delta_zh*sin(phi + theta),  0,  0,                                              0, 0,                                                            0],\n",
       "[  0,   0,                                                                        0,                      0,                                                      0,  0,  0,                                             -I, 0, -delta_yh2*cos(phi2 + theta2) - delta_zh2*sin(phi2 + theta2)],\n",
       "[  1,   0,                               -delta_yh*sin(theta) - delta_zh*cos(theta),                      0,                                                      0, -1,  0,  delta_yh2*sin(theta2) + delta_zh2*cos(theta2), 0,                                                            0],\n",
       "[  0,   1,                                delta_yh*cos(theta) - delta_zh*sin(theta),                      0,                                                      0,  0, -1, -delta_yh2*cos(theta2) + delta_zh2*sin(theta2), 0,                                                            0]])"
      ]
     },
     "execution_count": 4,
     "metadata": {},
     "output_type": "execute_result"
    }
   ],
   "source": [
    "# Define the variables\n",
    "I, m, l, mo, delta_yh, delta_zh, Imp, delta_yh2, delta_zh2, Imp2, t = \\\n",
    "    sp.symbols('I m l mo delta_yh delta_zh Imp delta_yh2 delta_zh2 Imp2 t')\n",
    "theta, phi, y, z, \\\n",
    "    loose_y_dot, loose_z_dot, loose_theta_dot, loose_y_obj_dot, loose_z_obj_dot, \\\n",
    "    taut_y_dot, taut_z_dot, taut_theta_dot, taut_phi_dot, \\\n",
    "theta2, phi2, y2, z2, \\\n",
    "    loose_y2_dot, loose_z2_dot, loose_theta2_dot, \\\n",
    "    taut_y2_dot, taut_z2_dot, taut_theta2_dot, taut_phi2_dot= \\\n",
    "    sp.symbols('theta phi y z \\\n",
    "                    loose_y_dot loose_z_dot loose_theta_dot loose_y_obj_dot loose_z_obj_dot \\\n",
    "                    taut_y_dot taut_z_dot taut_theta_dot taut_phi_dot \\\n",
    "                    theta2 phi2 y2 z2 \\\n",
    "                    loose_y2_dot loose_z2_dot loose_theta2_dot \\\n",
    "                    taut_y2_dot taut_z2_dot taut_theta2_dot taut_phi2_dot')\n",
    "\n",
    "# Define velocities\n",
    "# get the linear velocity of the object in the world frame\n",
    "taut_xyz_obj_dot = sp.Matrix([0,taut_y_dot, taut_z_dot]) + \\\n",
    "                    sp.Matrix([taut_theta_dot,0,0]).cross(sp.Matrix([0,delta_yh * sp.cos(theta) - delta_zh * sp.sin(theta), delta_yh * sp.sin(theta) + delta_zh * sp.cos(theta)])) + \\\n",
    "                        sp.Matrix([taut_phi_dot+taut_theta_dot, 0,0]).cross(sp.Matrix([0,l * sp.sin(phi+theta), -l * sp.cos(phi+theta)])) \n",
    "taut_y_obj_dot, taut_z_obj_dot = taut_xyz_obj_dot[1], taut_xyz_obj_dot[2]\n",
    "\n",
    "\n",
    "##### Both loose2taut #####\n",
    "\n",
    "# linear momentum balance for the quadrotor\n",
    "lin_quad_y = m * loose_y_dot + Imp * sp.sin(theta+phi) - m * taut_y_dot\n",
    "lin_quad_z = m * loose_z_dot - Imp * sp.cos(theta+phi) - m * taut_z_dot\n",
    "\n",
    "lin_quad2_y = m * loose_y2_dot + Imp2 * sp.sin(theta2+phi2) - m * taut_y2_dot\n",
    "lin_quad2_z = m * loose_z2_dot - Imp2 * sp.cos(theta2+phi2) - m * taut_z2_dot\n",
    "\n",
    "# # linear momentum balance for the object\n",
    "# lin_obj_y = sp.expand(mo * loose_y_obj_dot - Imp * sp.sin(theta+phi) - mo * taut_y_obj_dot)\n",
    "# lin_obj_z = sp.expand(mo * loose_z_obj_dot + Imp * sp.cos(theta+phi) - mo * taut_z_obj_dot)\n",
    "\n",
    "# linear momentum balance for the object\n",
    "lin_obj_y = sp.expand(mo * loose_y_obj_dot - Imp * sp.sin(theta+phi)- Imp2 * sp.sin(theta2+phi2) - mo * taut_y_obj_dot)\n",
    "lin_obj_z = sp.expand(mo * loose_z_obj_dot + Imp * sp.cos(theta+phi)+ Imp2 * sp.cos(theta2+phi2) - mo * taut_z_obj_dot)\n",
    "\n",
    "# angular momentum balance for the quadrotor\n",
    "M = delta_yh * (- Imp * sp.cos(phi+theta)) - delta_zh * (Imp * sp.sin(phi+theta))\n",
    "ang_quad = I * loose_theta_dot + M - I * taut_theta_dot\n",
    "\n",
    "M2 = delta_yh2 * (- Imp2 * sp.cos(phi2+theta2)) - delta_zh2 * (Imp2 * sp.sin(phi2+theta2))\n",
    "ang_quad2 = I * loose_theta2_dot + M2 - I * taut_theta2_dot\n",
    "\n",
    "# geometric relation\n",
    "lin_quads_y = taut_y_dot - taut_theta_dot * (delta_yh * sp.sin(theta) + delta_zh *sp.cos(theta)) + l * sp.cos(theta + phi) * (taut_theta_dot + taut_phi_dot) - \\\n",
    "    taut_y2_dot + taut_theta2_dot * (delta_yh2 * sp.sin(theta2) + delta_zh2 *sp.cos(theta2)) - l * sp.cos(theta2 + phi2) * (taut_theta2_dot + taut_phi2_dot)\n",
    "\n",
    "lin_quads_z = taut_z_dot + taut_theta_dot * (delta_yh * sp.cos(theta) - delta_zh *sp.sin(theta)) + l * sp.sin(theta + phi) * (taut_theta_dot + taut_phi_dot) - \\\n",
    "    taut_z2_dot - taut_theta2_dot * (delta_yh2 * sp.cos(theta2) - delta_zh2 *sp.sin(theta2)) - l * sp.sin(theta2 + phi2) * (taut_theta2_dot + taut_phi2_dot)\n",
    "\n",
    "# equations = [lin_quad_y, lin_quad_z, lin_obj_y, lin_obj_z, ang_quad]\n",
    "equations = [lin_quad_y, lin_quad_z, lin_quad2_y, lin_quad2_z, lin_obj_y, lin_obj_z, ang_quad, ang_quad2, lin_quads_y, lin_quads_z]\n",
    "num_equations = len(equations)\n",
    "taut_state = [taut_y_dot, taut_z_dot, taut_theta_dot, taut_phi_dot, Imp, taut_y2_dot, taut_z2_dot, taut_theta2_dot, taut_phi2_dot, Imp2]\n",
    "\n",
    "#################################\n",
    "\n",
    "\n",
    "Atrans = sp.Matrix(num_equations, len(taut_state), lambda i, j: equations[i].coeff(taut_state[j]))\n",
    "btrans = -sp.Matrix(num_equations, 1, lambda i, j: equations[i].subs([(var, 0) for var in taut_state]))\n",
    "\n",
    "params = [I, m, l, mo, delta_yh, delta_zh, delta_yh2, delta_zh2]\n",
    "loose_state = [theta, phi, y, z, loose_y_dot, loose_z_dot, loose_theta_dot, loose_y_obj_dot, loose_z_obj_dot, theta2, phi2, y2, z2, loose_y2_dot, loose_z2_dot, loose_theta2_dot]\n",
    "\n",
    "# lambdify the matrix\n",
    "Atrans_func = sp.lambdify(params+loose_state, Atrans, modules='jax')\n",
    "btrans_func = sp.lambdify(params+loose_state, btrans, modules='jax')\n",
    "# lin_obj_y\n",
    "Atrans\n",
    "# taut_y_obj_dot\n",
    "# taut_xyz_obj_dot\n"
   ]
  },
  {
   "cell_type": "code",
   "execution_count": 14,
   "metadata": {},
   "outputs": [
    {
     "data": {
      "text/latex": [
       "$\\displaystyle \\left[\\begin{matrix}- m & 0 & 0 & 0 & \\sin{\\left(\\phi + \\theta \\right)}\\\\0 & - m & 0 & 0 & - \\cos{\\left(\\phi + \\theta \\right)}\\\\- mo & 0 & \\delta_{yh} mo \\sin{\\left(\\theta \\right)} + \\delta_{zh} mo \\cos{\\left(\\theta \\right)} - l mo \\cos{\\left(\\phi + \\theta \\right)} & - l mo \\cos{\\left(\\phi + \\theta \\right)} & - \\sin{\\left(\\phi + \\theta \\right)}\\\\0 & - mo & - \\delta_{yh} mo \\cos{\\left(\\theta \\right)} + \\delta_{zh} mo \\sin{\\left(\\theta \\right)} - l mo \\sin{\\left(\\phi + \\theta \\right)} & - l mo \\sin{\\left(\\phi + \\theta \\right)} & \\cos{\\left(\\phi + \\theta \\right)}\\\\0 & 0 & - I & 0 & - \\delta_{yh} \\cos{\\left(\\phi + \\theta \\right)} - \\delta_{zh} \\sin{\\left(\\phi + \\theta \\right)}\\end{matrix}\\right]$"
      ],
      "text/plain": [
       "Matrix([\n",
       "[ -m,   0,                                                                        0,                      0,                                       sin(phi + theta)],\n",
       "[  0,  -m,                                                                        0,                      0,                                      -cos(phi + theta)],\n",
       "[-mo,   0,  delta_yh*mo*sin(theta) + delta_zh*mo*cos(theta) - l*mo*cos(phi + theta), -l*mo*cos(phi + theta),                                      -sin(phi + theta)],\n",
       "[  0, -mo, -delta_yh*mo*cos(theta) + delta_zh*mo*sin(theta) - l*mo*sin(phi + theta), -l*mo*sin(phi + theta),                                       cos(phi + theta)],\n",
       "[  0,   0,                                                                       -I,                      0, -delta_yh*cos(phi + theta) - delta_zh*sin(phi + theta)]])"
      ]
     },
     "execution_count": 14,
     "metadata": {},
     "output_type": "execute_result"
    }
   ],
   "source": [
    "\n",
    "##### loose2taut & keep taut or loose: 5 eqs #####\n",
    "params = [I, m, l, mo, delta_yh, delta_zh]\n",
    "loose_state = [theta, phi, y, z, loose_y_dot, loose_z_dot, loose_theta_dot, loose_y_obj_dot, loose_z_obj_dot]\n",
    "\n",
    "equations = [lin_quad_y, lin_quad_z, lin_obj_y, lin_obj_z, ang_quad]\n",
    "num_equations = len(equations)\n",
    "taut_state = [taut_y_dot, taut_z_dot, taut_theta_dot, taut_phi_dot, Imp]\n",
    "\n",
    "# linear momentum balance for the quadrotor\n",
    "lin_quad_y = m * loose_y_dot + Imp * sp.sin(theta+phi) - m * taut_y_dot\n",
    "lin_quad_z = m * loose_z_dot - Imp * sp.cos(theta+phi) - m * taut_z_dot\n",
    "\n",
    "# # linear momentum balance for the object\n",
    "lin_obj_y = sp.expand(mo * loose_y_obj_dot - Imp * sp.sin(theta+phi) - mo * taut_y_obj_dot)\n",
    "lin_obj_z = sp.expand(mo * loose_z_obj_dot + Imp * sp.cos(theta+phi) - mo * taut_z_obj_dot)\n",
    "\n",
    "# angular momentum balance for the quadrotor\n",
    "M = delta_yh * (- Imp * sp.cos(phi+theta)) - delta_zh * (Imp * sp.sin(phi+theta))\n",
    "ang_quad = I * loose_theta_dot + M - I * taut_theta_dot\n",
    "\n",
    "Atrans = sp.Matrix(num_equations, len(taut_state), lambda i, j: equations[i].coeff(taut_state[j]))\n",
    "btrans = -sp.Matrix(num_equations, 1, lambda i, j: equations[i].subs([(var, 0) for var in taut_state]))\n",
    "\n",
    "\n",
    "# lambdify the matrix\n",
    "Atrans_func = sp.lambdify(params+loose_state, Atrans, modules='jax')\n",
    "btrans_func = sp.lambdify(params+loose_state, btrans, modules='jax')\n",
    "Atrans\n"
   ]
  },
  {
   "cell_type": "code",
   "execution_count": null,
   "metadata": {},
   "outputs": [],
   "source": [
    "##### loose2taut & taut2loose #####\n",
    "##### TODO ########################\n",
    "params = [I, m, l, mo, delta_yh, delta_zh]\n",
    "loose_state = [theta, phi, y, z, loose_y_dot, loose_z_dot, loose_theta_dot, loose_y_obj_dot, loose_z_obj_dot]\n",
    "\n",
    "equations = [lin_quad_y, lin_quad_z, lin_obj_y, lin_obj_z, ang_quad]\n",
    "num_equations = len(equations)\n",
    "taut_state = [taut_y_dot, taut_z_dot, taut_theta_dot, taut_phi_dot, Imp]\n",
    "\n",
    "# linear momentum balance for the quadrotor\n",
    "lin_quad_y = m * loose_y_dot + Imp * sp.sin(theta+phi) - m * taut_y_dot\n",
    "lin_quad_z = m * loose_z_dot - Imp * sp.cos(theta+phi) - m * taut_z_dot\n",
    "\n",
    "# # linear momentum balance for the object\n",
    "lin_obj_y = sp.expand(mo * loose_y_obj_dot - Imp * sp.sin(theta+phi) - mo * taut_y_obj_dot)\n",
    "lin_obj_z = sp.expand(mo * loose_z_obj_dot + Imp * sp.cos(theta+phi) - mo * taut_z_obj_dot)\n",
    "\n",
    "# angular momentum balance for the quadrotor\n",
    "M = delta_yh * (- Imp * sp.cos(phi+theta)) - delta_zh * (Imp * sp.sin(phi+theta))\n",
    "ang_quad = I * loose_theta_dot + M - I * taut_theta_dot\n",
    "\n",
    "Atrans = sp.Matrix(num_equations, len(taut_state), lambda i, j: equations[i].coeff(taut_state[j]))\n",
    "btrans = -sp.Matrix(num_equations, 1, lambda i, j: equations[i].subs([(var, 0) for var in taut_state]))\n",
    "\n",
    "\n",
    "# lambdify the matrix\n",
    "Atrans_func = sp.lambdify(params+loose_state, Atrans, modules='jax')\n",
    "btrans_func = sp.lambdify(params+loose_state, btrans, modules='jax')\n",
    "Atrans\n",
    "\n",
    "\n",
    "# drone1 loose2taut & drone2 taut2loose\n",
    "# new_taut_l_rope2 = taut_state.l_rope2 - taut2loose * env_params.rope_taut_therehold * 2.0\n",
    "\n",
    "# drone1 taut2loose & drone2 loose2taut\n",
    "# new_taut_l_rope = taut_state.l_rope - taut2loose * env_params.rope_taut_therehold * 2.0\n",
    "# replace dot value of y2, z2, theta2, phi2"
   ]
  },
  {
   "cell_type": "code",
   "execution_count": 6,
   "metadata": {},
   "outputs": [],
   "source": [
    "# Define the function to compute A^-1 (x-b)\n",
    "def both_loose2taut_transfer(env_params: EnvParams, loose_state: EnvState):\n",
    "\n",
    "    ##### Both loose2taut #####\n",
    "    # linear momentum balance for the quadrotor\n",
    "    lin_quad_y = m * loose_y_dot + Imp * sp.sin(theta+phi) - m * taut_y_dot\n",
    "    lin_quad_z = m * loose_z_dot - Imp * sp.cos(theta+phi) - m * taut_z_dot\n",
    "\n",
    "    lin_quad2_y = m * loose_y2_dot + Imp2 * sp.sin(theta2+phi2) - m * taut_y2_dot\n",
    "    lin_quad2_z = m * loose_z2_dot - Imp2 * sp.cos(theta2+phi2) - m * taut_z2_dot\n",
    "\n",
    "    # linear momentum balance for the object\n",
    "    lin_obj_y = sp.expand(mo * loose_y_obj_dot - Imp * sp.sin(theta+phi)- Imp2 * sp.sin(theta2+phi2) - mo * taut_y_obj_dot)\n",
    "    lin_obj_z = sp.expand(mo * loose_z_obj_dot + Imp * sp.cos(theta+phi)+ Imp2 * sp.cos(theta2+phi2) - mo * taut_z_obj_dot)\n",
    "\n",
    "    # angular momentum balance for the quadrotor\n",
    "    M = delta_yh * (- Imp * sp.cos(phi+theta)) - delta_zh * (Imp * sp.sin(phi+theta))\n",
    "    ang_quad = I * loose_theta_dot + M - I * taut_theta_dot\n",
    "\n",
    "    M2 = delta_yh2 * (- Imp2 * sp.cos(phi2+theta2)) - delta_zh2 * (Imp2 * sp.sin(phi2+theta2))\n",
    "    ang_quad2 = I * loose_theta2_dot + M2 - I * taut_theta2_dot\n",
    "\n",
    "    # geometric relation\n",
    "    lin_quads_y = taut_y_dot - taut_theta_dot * (delta_yh * sp.sin(theta) + delta_zh *sp.cos(theta)) + l * sp.cos(theta + phi) * (taut_theta_dot + taut_phi_dot) - \\\n",
    "        taut_y2_dot + taut_theta2_dot * (delta_yh2 * sp.sin(theta2) + delta_zh2 *sp.cos(theta2)) - l * sp.cos(theta2 + phi2) * (taut_theta2_dot + taut_phi2_dot)\n",
    "\n",
    "    lin_quads_z = taut_z_dot + taut_theta_dot * (delta_yh * sp.cos(theta) - delta_zh *sp.sin(theta)) + l * sp.sin(theta + phi) * (taut_theta_dot + taut_phi_dot) - \\\n",
    "        taut_z2_dot - taut_theta2_dot * (delta_yh2 * sp.cos(theta2) - delta_zh2 *sp.sin(theta2)) - l * sp.sin(theta2 + phi2) * (taut_theta2_dot + taut_phi2_dot)\n",
    "\n",
    "    # equations = [lin_quad_y, lin_quad_z, lin_obj_y, lin_obj_z, ang_quad]\n",
    "    equations = [lin_quad_y, lin_quad_z, lin_quad2_y, lin_quad2_z, lin_obj_y, lin_obj_z, ang_quad, ang_quad2, lin_quads_y, lin_quads_z]\n",
    "    num_equations = len(equations)\n",
    "    taut_state = [taut_y_dot, taut_z_dot, taut_theta_dot, taut_phi_dot, Imp, taut_y2_dot, taut_z2_dot, taut_theta2_dot, taut_phi2_dot, Imp2]\n",
    "\n",
    "    #################################\n",
    "\n",
    "\n",
    "    Atrans = sp.Matrix(num_equations, len(taut_state), lambda i, j: equations[i].coeff(taut_state[j]))\n",
    "    btrans = -sp.Matrix(num_equations, 1, lambda i, j: equations[i].subs([(var, 0) for var in taut_state]))\n",
    "\n",
    "    params = [I, m, l, mo, delta_yh, delta_zh, delta_yh2, delta_zh2]\n",
    "    loose_state = [theta, phi, y, z, loose_y_dot, loose_z_dot, loose_theta_dot, loose_y_obj_dot, loose_z_obj_dot, theta2, phi2, y2, z2, loose_y2_dot, loose_z2_dot, loose_theta2_dot]\n",
    "\n",
    "    # lambdify the matrix\n",
    "    Atrans_func = sp.lambdify(params+loose_state, Atrans, modules='jax')\n",
    "    btrans_func = sp.lambdify(params+loose_state, btrans, modules='jax')\n",
    "    params = [env_params.I, env_params.m, env_params.l, env_params.mo, env_params.delta_yh, env_params.delta_zh, env_params.delta_yh2, env_params.delta_zh2]\n",
    "    loose_state_values = [loose_state.theta, loose_state.phi, loose_state.y, loose_state.z, loose_state.y_dot, loose_state.z_dot, loose_state.theta_dot, loose_state.y_obj_dot, loose_state.z_obj_dot,\n",
    "                        loose_state.theta2, loose_state.phi2, loose_state.y2, loose_state.z2, loose_state.y2_dot, loose_state.z2_dot, loose_state.theta2_dot]\n",
    "    A_val = Atrans_func(*params, *loose_state_values)\n",
    "    b_val = btrans_func(*params, *loose_state_values)\n",
    "    # taut_y_dot, taut_z_dot, taut_theta_dot, taut_phi_dot, Imp = jnp.linalg.solve(A_val, b_val).squeeze()\n",
    "    taut_y_dot, taut_z_dot, taut_theta_dot, taut_phi_dot, Imp, taut_y2_dot, taut_z2_dot, taut_theta2_dot, taut_phi2_dot, Imp2 = jnp.linalg.solve(A_val, b_val).squeeze()\n",
    "\n",
    "    loose_state = loose_state.replace(\n",
    "        y_dot=taut_y_dot,\n",
    "        z_dot=taut_z_dot,\n",
    "        theta_dot=taut_theta_dot,\n",
    "        phi_dot=taut_phi_dot,\n",
    "        l_rope=env_params.l,\n",
    "        y2_dot=taut_y2_dot,\n",
    "        z2_dot=taut_z2_dot,\n",
    "        theta2_dot=taut_theta2_dot,\n",
    "        phi2_dot=taut_phi2_dot,\n",
    "        l_rope2=env_params.l\n",
    "    )\n",
    "\n",
    "    return loose_state"
   ]
  },
  {
   "cell_type": "code",
   "execution_count": 7,
   "metadata": {},
   "outputs": [],
   "source": [
    "def dynamic_transfer(env_params:EnvParams, loose_state:EnvState, taut_state:EnvState, old_loose_state:bool):\n",
    "    new_loose_state = loose_state.l_rope < (env_params.l - env_params.rope_taut_therehold)\n",
    "    taut2loose = (taut_state.f_rope < 0.0) & (~old_loose_state)\n",
    "    loose2taut = (~new_loose_state) & (old_loose_state)\n",
    "\n",
    "    # taut2loose dynamics\n",
    "    new_taut_l_rope = taut_state.l_rope - taut2loose * env_params.rope_taut_therehold * 2.0\n",
    "    taut_state = taut_state.replace(l_rope=new_taut_l_rope)\n",
    "\n",
    "    # loose2taut dynamics\n",
    "    loose_state = both_loose2taut_transfer(env_params, loose_state, loose2taut)\n",
    "\n",
    "    # use loose_state when old_loose_state is True, else use taut_state\n",
    "    new_state = {}\n",
    "    for k in loose_state.__dict__.keys():\n",
    "        new_state[k] = jnp.where(old_loose_state, loose_state.__dict__[k], taut_state.__dict__[k])\n",
    "\n",
    "    loose_state = loose_state.replace(**new_state)\n",
    "\n",
    "    return loose_state\n"
   ]
  },
  {
   "cell_type": "code",
   "execution_count": null,
   "metadata": {},
   "outputs": [],
   "source": [
    "def loose2taut_transfer(env_params: EnvParams, loose_state: EnvState, loose2taut: bool):\n",
    "    if ~loose2taut:\n",
    "        params = [env_params.I, env_params.m, env_params.l, env_params.mo, env_params.delta_yh, env_params.delta_zh]\n",
    "        loose_state_values = [loose_state.theta, loose_state.phi, loose_state.y, loose_state.z, loose_state.y_dot, loose_state.z_dot, loose_state.theta_dot, loose_state.y_obj_dot, loose_state.z_obj_dot]\n",
    "    else:\n",
    "        params = [env_params.I, env_params.m, env_params.l, env_params.mo, env_params.delta_yh2, env_params.delta_zh2]\n",
    "        loose_state_values = [loose_state.theta2, loose_state.phi2, loose_state.y2, loose_state.z2, loose_state.y2_dot, loose_state.z2_dot, loose_state.theta2_dot, loose_state.y_obj_dot, loose_state.z_obj_dot]\n",
    "    \n",
    "    A_val = Atrans_func(*params, *loose_state_values)\n",
    "    b_val = btrans_func(*params, *loose_state_values)\n",
    "    taut_y_dot, taut_z_dot, taut_theta_dot, taut_phi_dot, Imp = jnp.linalg.solve(A_val, b_val).squeeze()\n",
    "\n",
    "    new_y_dot = loose_state.y_dot * loose2taut + taut_y_dot * (1 - loose2taut)\n",
    "    new_z_dot = loose_state.z_dot * loose2taut + taut_z_dot * (1 - loose2taut)\n",
    "    new_theta_dot = loose_state.theta_dot * loose2taut + taut_theta_dot * (1 - loose2taut)\n",
    "    new_phi_dot = loose_state.phi_dot * loose2taut + taut_phi_dot * (1 - loose2taut)\n",
    "    new_l_rope = loose_state.l_rope * loose2taut +  env_params.l * (1 - loose2taut)\n",
    "        \n",
    "\n",
    "    if ~loose2taut:\n",
    "        loose_state = loose_state.replace(\n",
    "            y_dot=new_y_dot,\n",
    "            z_dot=new_z_dot,\n",
    "            theta_dot=new_theta_dot,\n",
    "            phi_dot=new_phi_dot,\n",
    "            l_rope=new_l_rope\n",
    "        )\n",
    "    else:\n",
    "        loose_state = loose_state.replace(\n",
    "            y2_dot=new_y_dot,\n",
    "            z2_dot=new_z_dot,\n",
    "            theta2_dot=new_theta_dot,\n",
    "            phi2_dot=new_phi_dot,\n",
    "            l_rope2=new_l_rope\n",
    "        )\n",
    "\n",
    "    return loose_state"
   ]
  },
  {
   "cell_type": "code",
   "execution_count": 8,
   "metadata": {},
   "outputs": [],
   "source": [
    "from typing import Tuple\n",
    "def dynamic_transfer(env_params:EnvParams, loose_state:EnvState, taut_state:EnvState, loose_taut_state:EnvState, taut_loose_state:EnvState, old_loose_state: Tuple[bool,bool]):\n",
    "    new_loose_state1 = loose_state.l_rope < (env_params.l - env_params.rope_taut_threshold)\n",
    "    new_loose_state2 = loose_state.l_rope2 < (env_params.l - env_params.rope_taut_threshold)\n",
    "    taut2loose1 = (taut_state.f_rope < 0.0) & (~old_loose_state[0])\n",
    "    taut2loose2 = (taut_state.f_rope2 < 0.0) & (~old_loose_state[1])\n",
    "    loose2taut1 = (~new_loose_state1) & (old_loose_state[0])\n",
    "    loose2taut2 = (~new_loose_state2) & (old_loose_state[1])\n",
    "\n",
    "    # old_tt,tl,lt,ll new_tt,tl,lt,tt\n",
    "    # 定义改变状态量，4个状态之间的转移，共12种\n",
    "    # tt2ll = taut2loose1 & taut2loose2\n",
    "    # tt2tl = (~old_loose_state[0]) &  (~old_loose_state[1]) & (taut_state.f_rope >= 0.0) & (taut_state.f_rope2 < 0.0)\n",
    "    # tt2lt = (~old_loose_state[0]) &  (~old_loose_state[1]) & (taut_state.f_rope < 0.0) & (taut_state.f_rope2 >= 0.0)\n",
    "\n",
    "    lt2ll = (old_loose_state[0]) & (~old_loose_state[1]) & (loose_taut_state.f_rope2 < 0.0) & (loose_taut_state.l_rope < (env_params.l - env_params.rope_taut_threshold))\n",
    "    tl2ll = (~old_loose_state[0]) & (old_loose_state[1]) & (taut_loose_state.f_rope < 0.0) & (taut_loose_state.l_rope < (env_params.l - env_params.rope_taut_threshold))\n",
    "\n",
    "    lt2tl = (old_loose_state[0]) & (~old_loose_state[1]) & (loose_taut_state.f_rope2 < 0.0) & (loose_taut_state.l_rope < (env_params.l - env_params.rope_taut_threshold))\n",
    "    lt2tt = (old_loose_state[0]) & (~old_loose_state[1]) & (loose_taut_state.f_rope2 >= 0.0) & (loose_taut_state.l_rope >= (env_params.l - env_params.rope_taut_threshold))\n",
    "\n",
    "    tl2lt = (~old_loose_state[0]) & (old_loose_state[1]) & (taut_loose_state.f_rope < 0.0) & (taut_loose_state.l_rope2 >= (env_params.l - env_params.rope_taut_threshold))\n",
    "    tl2tt = (~old_loose_state[0]) & (old_loose_state[1]) & (taut_loose_state.f_rope >= 0.0) & (taut_loose_state.l_rope2 >= (env_params.l - env_params.rope_taut_threshold))\n",
    "\n",
    "    ll2lt = (old_loose_state[0]) & (old_loose_state[1]) & (loose_state.l_rope < (env_params.l - env_params.rope_taut_threshold)) & (loose_state.l_rope2 >= (env_params.l - env_params.rope_taut_threshold))\n",
    "    ll2tl = (old_loose_state[0]) & (old_loose_state[1]) & (loose_state.l_rope >= (env_params.l - env_params.rope_taut_threshold)) & (loose_state.l_rope2 < (env_params.l - env_params.rope_taut_threshold))\n",
    "    ll2tt = (old_loose_state[0]) & (old_loose_state[1]) & (loose_state.l_rope < (env_params.l - env_params.rope_taut_threshold)) & (loose_state.l_rope2 < (env_params.l - env_params.rope_taut_threshold))\n",
    "    \n",
    "    # taut2loose dynamics: both taut2loose, or one taut2loose\n",
    "    new_taut_l_rope1 = taut_state.l_rope - taut2loose1 * env_params.rope_taut_threshold * 2.0\n",
    "    new_taut_l_rope2 = taut_state.l_rope2 - taut2loose2 * env_params.rope_taut_threshold * 2.0\n",
    "    taut_state = taut_state.replace(l_rope=new_taut_l_rope1, l_rope2=new_taut_l_rope2)\n",
    "\n",
    "    new_lt_l_rope2 = loose_taut_state.l_rope2 - (lt2ll | lt2tl) * env_params.rope_taut_threshold * 2.0\n",
    "    loose_taut_state = loose_taut_state.replace(l_rope2=new_lt_l_rope2)\n",
    "\n",
    "    new_tl_l_rope = taut_loose_state.l_rope - (tl2ll | tl2lt) * env_params.rope_taut_threshold * 2.0\n",
    "    taut_loose_state = taut_loose_state.replace(l_rope=new_tl_l_rope)\n",
    "\n",
    "    # loose2taut dynamics\n",
    "    if ll2tt:\n",
    "        loose_state = both_loose2taut_transfer(env_params, loose_state)\n",
    "    elif ll2tl:\n",
    "        loose_state = loose2taut_transfer(env_params, loose_state, 0)\n",
    "    elif ll2lt:\n",
    "        loose_state = loose2taut_transfer(env_params, loose_state, 1)\n",
    "    elif (lt2tl | lt2tt):\n",
    "        loose_taut_state = loose2taut_transfer(env_params, loose_taut_state, 0)\n",
    "    elif (tl2lt | tl2tt):\n",
    "        taut_loose_state = loose2taut_transfer(env_params, taut_loose_state, 1)\n",
    "    \n",
    "    l1 = old_loose_state[0]\n",
    "    l2 = old_loose_state[1]\n",
    "    if (l1 & l2):\n",
    "        return loose_state\n",
    "    elif(l1 & ~l2):\n",
    "        return loose_taut_state\n",
    "    elif(~l1 & l2):\n",
    "        return taut_loose_state\n",
    "    else:\n",
    "        return taut_state\n",
    "\n",
    "    # old_loose1 = old_loose_state[0]\n",
    "    # old_loose2 = old_loose_state[1]\n",
    "\n",
    "    # # loose2taut dynamics: both loose2taut, one loose2taut, one taut2loose/keep taut/keep loose\n",
    "    # if loose2taut1 & loose2taut2:\n",
    "    #     loose_state = both_loose2taut_transfer(env_params, loose_state)\n",
    "    # elif loose2taut1 | loose2taut2:\n",
    "    #     if old_loose1 & old_loose2:\n",
    "    #         # ll -> lt, tl\n",
    "    #         # loose2taut index: loose2taut2 returns 0 if drone1, 1 if drone2\n",
    "    #         loose_state = loose2taut_transfer(env_params, loose_state, loose2taut2, taut2loose1, taut2loose2)\n",
    "    #     elif old_loose1:\n",
    "    #         loose_state = loose2taut_transfer(env_params, loose_state, 0, taut2loose1, taut2loose2)\n",
    "    #     else:\n",
    "    #         loose_state = loose2taut_transfer(env_params, loose_state, 1, taut2loose1, taut2loose2)\n",
    "        \n",
    "        \n",
    "    # loose_state2 = loose2taut_transfer(env_params, loose_state2, loose2taut2)\n",
    "\n",
    "    # use loose_state when old_loose_state is True, else use taut_state\n",
    "    # new_state = {}\n",
    "    # for k in loose_state.__dict__.keys():\n",
    "    #     new_state[k] = jnp.where(old_loose_state, loose_state.__dict__[k], taut_state.__dict__[k])\n",
    "\n",
    "    # loose_state = loose_state.replace(**new_state)\n",
    "\n",
    "    # return loose_state"
   ]
  },
  {
   "cell_type": "code",
   "execution_count": 9,
   "metadata": {},
   "outputs": [
    {
     "data": {
      "text/latex": [
       "$\\displaystyle I loose_{\\theta dot} - I taut_{\\theta dot} - Imp \\delta_{yh} \\cos{\\left(\\phi + \\theta \\right)} - Imp \\delta_{zh} \\sin{\\left(\\phi + \\theta \\right)}$"
      ],
      "text/plain": [
       "I*loose_theta_dot - I*taut_theta_dot - Imp*delta_yh*cos(phi + theta) - Imp*delta_zh*sin(phi + theta)"
      ]
     },
     "execution_count": 9,
     "metadata": {},
     "output_type": "execute_result"
    }
   ],
   "source": [
    "ang_quad"
   ]
  },
  {
   "cell_type": "code",
   "execution_count": 15,
   "metadata": {},
   "outputs": [
    {
     "data": {
      "text/latex": [
       "$\\displaystyle \\left[\\begin{matrix}- m & 0 & 0 & 0 & \\sin{\\left(\\phi + \\theta \\right)}\\\\0 & - m & 0 & 0 & - \\cos{\\left(\\phi + \\theta \\right)}\\\\- mo & 0 & \\delta_{yh} mo \\sin{\\left(\\theta \\right)} + \\delta_{zh} mo \\cos{\\left(\\theta \\right)} - l mo \\cos{\\left(\\phi + \\theta \\right)} & - l mo \\cos{\\left(\\phi + \\theta \\right)} & - \\sin{\\left(\\phi + \\theta \\right)}\\\\0 & - mo & - \\delta_{yh} mo \\cos{\\left(\\theta \\right)} + \\delta_{zh} mo \\sin{\\left(\\theta \\right)} - l mo \\sin{\\left(\\phi + \\theta \\right)} & - l mo \\sin{\\left(\\phi + \\theta \\right)} & \\cos{\\left(\\phi + \\theta \\right)}\\\\0 & 0 & - I & 0 & - \\delta_{yh} \\cos{\\left(\\phi + \\theta \\right)} - \\delta_{zh} \\sin{\\left(\\phi + \\theta \\right)}\\end{matrix}\\right]$"
      ],
      "text/plain": [
       "Matrix([\n",
       "[ -m,   0,                                                                        0,                      0,                                       sin(phi + theta)],\n",
       "[  0,  -m,                                                                        0,                      0,                                      -cos(phi + theta)],\n",
       "[-mo,   0,  delta_yh*mo*sin(theta) + delta_zh*mo*cos(theta) - l*mo*cos(phi + theta), -l*mo*cos(phi + theta),                                      -sin(phi + theta)],\n",
       "[  0, -mo, -delta_yh*mo*cos(theta) + delta_zh*mo*sin(theta) - l*mo*sin(phi + theta), -l*mo*sin(phi + theta),                                       cos(phi + theta)],\n",
       "[  0,   0,                                                                       -I,                      0, -delta_yh*cos(phi + theta) - delta_zh*sin(phi + theta)]])"
      ]
     },
     "execution_count": 15,
     "metadata": {},
     "output_type": "execute_result"
    }
   ],
   "source": [
    "Atrans"
   ]
  },
  {
   "cell_type": "code",
   "execution_count": 11,
   "metadata": {},
   "outputs": [
    {
     "data": {
      "text/latex": [
       "$\\displaystyle \\left[\\begin{matrix}0\\\\- taut_{\\theta dot} \\left(\\delta_{yh} \\sin{\\left(\\theta \\right)} + \\delta_{zh} \\cos{\\left(\\theta \\right)}\\right)\\\\taut_{\\theta dot} \\left(\\delta_{yh} \\cos{\\left(\\theta \\right)} - \\delta_{zh} \\sin{\\left(\\theta \\right)}\\right)\\end{matrix}\\right]$"
      ],
      "text/plain": [
       "Matrix([\n",
       "[                                                          0],\n",
       "[-taut_theta_dot*(delta_yh*sin(theta) + delta_zh*cos(theta))],\n",
       "[ taut_theta_dot*(delta_yh*cos(theta) - delta_zh*sin(theta))]])"
      ]
     },
     "execution_count": 11,
     "metadata": {},
     "output_type": "execute_result"
    }
   ],
   "source": [
    "sp.Matrix([taut_theta_dot,0,0]).cross(sp.Matrix([0,delta_yh * sp.cos(theta) - delta_zh * sp.sin(theta), delta_yh * sp.sin(theta) + delta_zh * sp.cos(theta)]))"
   ]
  },
  {
   "cell_type": "code",
   "execution_count": 12,
   "metadata": {},
   "outputs": [
    {
     "data": {
      "text/latex": [
       "$\\displaystyle \\left[\\begin{matrix}0\\\\l \\left(taut_{\\phi dot} + taut_{\\theta dot}\\right) \\cos{\\left(\\phi + \\theta \\right)}\\\\l \\left(taut_{\\phi dot} + taut_{\\theta dot}\\right) \\sin{\\left(\\phi + \\theta \\right)}\\end{matrix}\\right]$"
      ],
      "text/plain": [
       "Matrix([\n",
       "[                                                 0],\n",
       "[l*(taut_phi_dot + taut_theta_dot)*cos(phi + theta)],\n",
       "[l*(taut_phi_dot + taut_theta_dot)*sin(phi + theta)]])"
      ]
     },
     "execution_count": 12,
     "metadata": {},
     "output_type": "execute_result"
    }
   ],
   "source": [
    "sp.Matrix([taut_phi_dot+taut_theta_dot, 0,0]).cross(sp.Matrix([0,l * sp.sin(phi+theta), -l * sp.cos(phi+theta)])) "
   ]
  },
  {
   "cell_type": "code",
   "execution_count": 13,
   "metadata": {},
   "outputs": [
    {
     "data": {
      "text/latex": [
       "$\\displaystyle \\left[\\begin{matrix}taut_{\\phi dot} + taut_{\\theta dot}\\\\0\\\\0\\end{matrix}\\right]$"
      ],
      "text/plain": [
       "Matrix([\n",
       "[taut_phi_dot + taut_theta_dot],\n",
       "[                            0],\n",
       "[                            0]])"
      ]
     },
     "execution_count": 13,
     "metadata": {},
     "output_type": "execute_result"
    }
   ],
   "source": [
    "sp.Matrix([taut_phi_dot+taut_theta_dot, 0,0])"
   ]
  },
  {
   "cell_type": "code",
   "execution_count": 22,
   "metadata": {},
   "outputs": [
    {
     "data": {
      "text/plain": [
       "0"
      ]
     },
     "execution_count": 22,
     "metadata": {},
     "output_type": "execute_result"
    }
   ],
   "source": [
    "a = True\n",
    "b = True\n",
    "if not a:\n",
    "    b=1\n",
    "else:\n",
    "    b=0\n",
    "\n",
    "a & b, ~a & b, ~a|b\n",
    "c=~a|b\n",
    "d= ~a | ~b\n",
    "if d:\n",
    "    e = 0\n",
    "a & b"
   ]
  },
  {
   "cell_type": "code",
   "execution_count": 26,
   "metadata": {},
   "outputs": [
    {
     "data": {
      "text/plain": [
       "True"
      ]
     },
     "execution_count": 26,
     "metadata": {},
     "output_type": "execute_result"
    }
   ],
   "source": [
    "a = True\n",
    "b = True\n",
    "\n",
    "c = (a,b)\n",
    "ll2tt = (not c[0]) | c[1]\n",
    "ll2tt"
   ]
  },
  {
   "cell_type": "code",
   "execution_count": 30,
   "metadata": {},
   "outputs": [
    {
     "data": {
      "text/plain": [
       "True"
      ]
     },
     "execution_count": 30,
     "metadata": {},
     "output_type": "execute_result"
    }
   ],
   "source": [
    "f_rope = -1.0\n",
    "old_loose_state = False\n",
    "old_loose_state2 = False\n",
    "taut2loose = (f_rope < 0.0) & (~old_loose_state) & (~old_loose_state2)\n",
    "taut2loose==True"
   ]
  }
 ],
 "metadata": {
  "kernelspec": {
   "display_name": "Python 3.9.16 ('pytorch3d')",
   "language": "python",
   "name": "python3"
  },
  "language_info": {
   "codemirror_mode": {
    "name": "ipython",
    "version": 3
   },
   "file_extension": ".py",
   "mimetype": "text/x-python",
   "name": "python",
   "nbconvert_exporter": "python",
   "pygments_lexer": "ipython3",
   "version": "3.9.16"
  },
  "orig_nbformat": 4,
  "vscode": {
   "interpreter": {
    "hash": "53203b611aca516efce8df497607d21cf30c25d4588adfa3e19897f1a0d04e28"
   }
  }
 },
 "nbformat": 4,
 "nbformat_minor": 2
}
