{
 "cells": [
  {
   "cell_type": "code",
   "execution_count": 1,
   "metadata": {},
   "outputs": [],
   "source": [
    "'''\n",
    "3d inverted pendulum implemented with sympy\n",
    "'''\n",
    "\n",
    "import sympy as sp\n",
    "from sympy.physics.mechanics import dynamicsymbols"
   ]
  },
  {
   "cell_type": "code",
   "execution_count": null,
   "metadata": {},
   "outputs": [],
   "source": [
    "# define symbols\n",
    "t = sp.symbols('t')\n",
    "g = sp.symbols('g')\n",
    "m = sp.symbols('m')\n",
    "l = sp.symbols('l')\n",
    "# action\n",
    "f_x, f_y = sp.symbols('f_x f_y')\n",
    "# dynamic symbols\n",
    "u, v = dynamicsymbols('u v')\n",
    "# other variables\n",
    "theta = sp.sqrt(u**2 + v**2)\n",
    "phi = sp.atan2(v, u)\n",
    "x = l * sp.sin(theta) * sp.cos(phi)\n",
    "y = l * sp.sin(theta) * sp.sin(phi)\n",
    "z = l * sp.cos(theta)\n",
    "f_rope=  sp.symbols('f_rope')"
   ]
  },
  {
   "cell_type": "code",
   "execution_count": null,
   "metadata": {},
   "outputs": [],
   "source": [
    "x_dot = x.diff(t)\n",
    "y_dot = y.diff(t)\n",
    "z_dot = z.diff(t)\n",
    "x_ddot = x_dot.diff(t)\n",
    "y_ddot = y_dot.diff(t)\n",
    "z_ddot = z_dot.diff(t)"
   ]
  },
  {
   "cell_type": "code",
   "execution_count": null,
   "metadata": {},
   "outputs": [],
   "source": [
    "x_ddot"
   ]
  },
  {
   "cell_type": "code",
   "execution_count": null,
   "metadata": {},
   "outputs": [],
   "source": [
    "# Newton's equation\n",
    "eq_x = f_x + f_rope_x - m * x_ddot\n",
    "eq_y = f_y + f_rope_y - m * y_ddot\n",
    "eq_z = -m * g + f_rope_z - m * z_ddot"
   ]
  },
  {
   "cell_type": "code",
   "execution_count": 3,
   "metadata": {},
   "outputs": [
    {
     "data": {
      "text/latex": [
       "$\\displaystyle 2 x_{1}{\\left(t \\right)} \\frac{d}{d t} x_{1}{\\left(t \\right)} + 2 x_{2}{\\left(t \\right)} \\frac{d}{d t} x_{2}{\\left(t \\right)} + 2 x_{3}{\\left(t \\right)} \\frac{d}{d t} x_{3}{\\left(t \\right)}$"
      ],
      "text/plain": [
       "2*x1(t)*Derivative(x1(t), t) + 2*x2(t)*Derivative(x2(t), t) + 2*x3(t)*Derivative(x3(t), t)"
      ]
     },
     "execution_count": 3,
     "metadata": {},
     "output_type": "execute_result"
    }
   ],
   "source": [
    "x1, x2, x3 = dynamicsymbols('x1 x2 x3')\n",
    "t = sp.symbols('t')\n",
    "(x1**2 + x2**2 + x3**2).diff(t,1)"
   ]
  },
  {
   "cell_type": "code",
   "execution_count": 1,
   "metadata": {},
   "outputs": [
    {
     "name": "stdout",
     "output_type": "stream",
     "text": [
      "[[ 0.  0.  2.]\n",
      " [ 0.  2.  0.]\n",
      " [-2.  0.  0.]]\n"
     ]
    }
   ],
   "source": [
    "import numpy as np\n",
    "\n",
    "# Quaternion functions\n",
    "def hat(v):\n",
    "    return np.array([[0, -v[2], v[1]],\n",
    "                     [v[2], 0, -v[0]],\n",
    "                     [-v[1], v[0], 0]])\n",
    "\n",
    "def L(q):\n",
    "    '''\n",
    "    L(q) = [s, -v; v^T, sI + hat(v)]\n",
    "    left multiplication matrix of a quaternion\n",
    "    '''\n",
    "    s = q[0]\n",
    "    v = q[1:4]\n",
    "    upper = np.hstack((s, -v))\n",
    "    lower_left = v.reshape(-1, 1)\n",
    "    lower_right = s * np.eye(3) + hat(v)\n",
    "    lower = np.hstack((lower_left, lower_right))\n",
    "    return np.vstack((upper, lower))\n",
    "\n",
    "\n",
    "def qtoQ(q):\n",
    "    '''\n",
    "    covert a quaternion to a 3x3 rotation matrix\n",
    "    '''\n",
    "    T = np.diag([1, -1, -1, -1])\n",
    "    H = np.vstack((np.zeros((1, 3)), np.eye(3))) # used to convert a 3d vector to 4d vector\n",
    "    Lq = L(q)\n",
    "    return H.T @ T @ Lq @ T @ Lq @ H\n",
    "\n",
    "# Test\n",
    "q = np.array([1, 0, 1, 0])\n",
    "print(qtoQ(q))"
   ]
  }
 ],
 "metadata": {
  "kernelspec": {
   "display_name": "jax2",
   "language": "python",
   "name": "python3"
  },
  "language_info": {
   "codemirror_mode": {
    "name": "ipython",
    "version": 3
   },
   "file_extension": ".py",
   "mimetype": "text/x-python",
   "name": "python",
   "nbconvert_exporter": "python",
   "pygments_lexer": "ipython3",
   "version": "3.11.4"
  },
  "orig_nbformat": 4
 },
 "nbformat": 4,
 "nbformat_minor": 2
}
