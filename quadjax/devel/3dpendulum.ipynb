{
 "cells": [
  {
   "cell_type": "code",
   "execution_count": 2,
   "metadata": {},
   "outputs": [],
   "source": [
    "'''\n",
    "3d inverted pendulum implemented with sympy\n",
    "'''\n",
    "\n",
    "import sympy as sp\n",
    "from sympy.physics.mechanics import dynamicsymbols"
   ]
  },
  {
   "cell_type": "code",
   "execution_count": null,
   "metadata": {},
   "outputs": [],
   "source": [
    "# define symbols\n",
    "t = sp.symbols('t')\n",
    "g = sp.symbols('g')\n",
    "m = sp.symbols('m')\n",
    "l = sp.symbols('l')\n",
    "# action\n",
    "f_x, f_y = sp.symbols('f_x f_y')\n",
    "# dynamic symbols\n",
    "u, v = dynamicsymbols('u v')\n",
    "# other variables\n",
    "theta = sp.sqrt(u**2 + v**2)\n",
    "phi = sp.atan2(v, u)\n",
    "x = l * sp.sin(theta) * sp.cos(phi)\n",
    "y = l * sp.sin(theta) * sp.sin(phi)\n",
    "z = l * sp.cos(theta)\n",
    "f_rope=  sp.symbols('f_rope')"
   ]
  },
  {
   "cell_type": "code",
   "execution_count": null,
   "metadata": {},
   "outputs": [],
   "source": [
    "x_dot = x.diff(t)\n",
    "y_dot = y.diff(t)\n",
    "z_dot = z.diff(t)\n",
    "x_ddot = x_dot.diff(t)\n",
    "y_ddot = y_dot.diff(t)\n",
    "z_ddot = z_dot.diff(t)"
   ]
  },
  {
   "cell_type": "code",
   "execution_count": null,
   "metadata": {},
   "outputs": [],
   "source": [
    "x_ddot"
   ]
  },
  {
   "cell_type": "code",
   "execution_count": null,
   "metadata": {},
   "outputs": [],
   "source": [
    "# Newton's equation\n",
    "eq_x = f_x + f_rope_x - m * x_ddot\n",
    "eq_y = f_y + f_rope_y - m * y_ddot\n",
    "eq_z = -m * g + f_rope_z - m * z_ddot"
   ]
  },
  {
   "cell_type": "code",
   "execution_count": 6,
   "metadata": {},
   "outputs": [
    {
     "data": {
      "text/latex": [
       "$\\displaystyle 2 x_{1}{\\left(t \\right)} \\frac{d}{d t} x_{1}{\\left(t \\right)} + 2 x_{2}{\\left(t \\right)} \\frac{d}{d t} x_{2}{\\left(t \\right)} + 2 x_{3}{\\left(t \\right)} \\frac{d}{d t} x_{3}{\\left(t \\right)}$"
      ],
      "text/plain": [
       "2*x1(t)*Derivative(x1(t), t) + 2*x2(t)*Derivative(x2(t), t) + 2*x3(t)*Derivative(x3(t), t)"
      ]
     },
     "execution_count": 6,
     "metadata": {},
     "output_type": "execute_result"
    }
   ],
   "source": [
    "x1, x2, x3 = dynamicsymbols('x1 x2 x3')\n",
    "t = sp.symbols('t')\n",
    "(x1**2 + x2**2 + x3**2).diff(t,2)"
   ]
  },
  {
   "cell_type": "code",
   "execution_count": null,
   "metadata": {},
   "outputs": [],
   "source": []
  }
 ],
 "metadata": {
  "kernelspec": {
   "display_name": "jax2",
   "language": "python",
   "name": "python3"
  },
  "language_info": {
   "codemirror_mode": {
    "name": "ipython",
    "version": 3
   },
   "file_extension": ".py",
   "mimetype": "text/x-python",
   "name": "python",
   "nbconvert_exporter": "python",
   "pygments_lexer": "ipython3",
   "version": "3.11.3"
  },
  "orig_nbformat": 4
 },
 "nbformat": 4,
 "nbformat_minor": 2
}
