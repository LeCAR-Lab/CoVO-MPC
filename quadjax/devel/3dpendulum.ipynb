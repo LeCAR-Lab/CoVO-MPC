{
 "cells": [
  {
   "cell_type": "code",
   "execution_count": null,
   "metadata": {},
   "outputs": [],
   "source": [
    "import jax\n",
    "from jax import grad, jvp\n",
    "import jax.numpy as jnp\n",
    "from trajax import integrators\n",
    "\n",
    "n = 8\n",
    "m = 2\n",
    "\n",
    "Mass=0.486\n",
    "mass = 0.2*Mass\n",
    "grav = 9.81\n",
    "l = 0.25\n",
    "L = 2*l\n",
    "J = 0.00383\n",
    "fric = 0.01\n",
    "u_hover = 0.5*(Mass+mass)*grav*jnp.ones((m,))\n",
    "\n",
    "# State: q = (p_x, p_y, theta, phi, velocities)\n",
    "# where theta: rotation angle of quad\n",
    "# phi: rotation angle of pendulum, w.r.t. vertical (NOTE: not a relative angle)\n",
    "\n",
    "def get_mass_matrix(q):\n",
    "  phi = q[-1]\n",
    "  M_q = jnp.array([[Mass+mass, 0., 0., mass*L*jnp.cos(phi)],\n",
    "                  [0., Mass+mass, 0., mass*L*jnp.sin(phi)],\n",
    "                  [0., 0., J, 0.],\n",
    "                  [mass*L*jnp.cos(phi), mass*L*jnp.sin(phi), 0., mass*L*L]])\n",
    "  return M_q\n",
    "\n",
    "def get_mass_matrix_from_state(x):\n",
    "\n",
    "def get_mass_inv(q):\n",
    "  phi = q[-1]\n",
    "  a = Mass + mass\n",
    "  b = mass*L*jnp.cos(phi)\n",
    "  c = mass*L*jnp.sin(phi)\n",
    "  d = mass*L*L\n",
    "  den = (mass*L)**2. - a*d\n",
    "  M_inv = jnp.array([[(c*c-a*d)/(a*den), -(b*c)/(a*den), 0., (b/den)],\n",
    "                    [-(b*c)/(a*den), (b*b-a*d)/(a*den), 0., (c/den)],\n",
    "                    [0., 0., (1./J), 0.],\n",
    "                    [(b/den), (c/den), 0., -(a/den)]])\n",
    "  return M_inv\n",
    "\n",
    "kinetic = lambda q, q_dot: 0.5 * jnp.vdot(q_dot, get_mass_matrix(q) @ q_dot)\n",
    "potential = lambda q: Mass*grav*q[1] + mass*grav*(q[1] - L*jnp.cos(q[-1]))\n",
    "lag = lambda q, q_dot: kinetic(q, q_dot) - potential(q)\n",
    "dL_dq = grad(lag, 0)\n",
    "\n",
    "@jax.jit\n",
    "def ode(x, u, t):\n",
    "  del t\n",
    "  q, q_dot = jnp.split(x, [4])\n",
    "  # (M_q * q_ddot + M_dot * q_dot) - (dL_dq) = F_q\n",
    "  M_q, M_dot = jvp(get_mass_matrix, (q,), (q_dot,))\n",
    "  M_inv = get_mass_inv(q)\n",
    "  torque_fric_pole = -fric * (q_dot[-1] - q_dot[-2])\n",
    "  F_q = jnp.array([-jnp.sum(u)*jnp.sin(q[2]),\n",
    "                   jnp.sum(u)*jnp.cos(q[2]),\n",
    "                  (u[0]-u[1])*l - torque_fric_pole,\n",
    "                  torque_fric_pole])\n",
    "  q_ddot = M_inv @ (F_q + dL_dq(q, q_dot) - (M_dot @ q_dot))\n",
    "  return jnp.concatenate((q_dot, q_ddot))\n",
    "\n",
    "dt = 0.025\n",
    "dynamics = integrators.rk4(ode, dt)"
   ]
  },
  {
   "cell_type": "code",
   "execution_count": null,
   "metadata": {},
   "outputs": [],
   "source": [
    "# simulate the dynamics\n",
    "x = jnp.array([0., 0., 0., 0., 0., 0., 0., 0.])\n",
    "u = jnp.array([0., 0.])\n",
    "xs = []\n",
    "for _ in range(100):\n",
    "    x = dynamics(x, u, 0.02)\n",
    "    xs.append(x)\n",
    "xs = jnp.stack(xs)"
   ]
  },
  {
   "cell_type": "code",
   "execution_count": 10,
   "metadata": {},
   "outputs": [],
   "source": [
    "import jax\n",
    "import jax.numpy as jnp\n",
    "\n",
    "def single_sample(key, traj_mean, traj_cov):\n",
    "    return jax.vmap(lambda mean, cov: jax.random.multivariate_normal(key, mean, cov))(traj_mean, traj_cov)\n",
    "# repeat single_sample N times to get N samples\n",
    "key = jax.random.PRNGKey(0)\n",
    "keys = jax.random.split(key, 10)\n",
    "a_mean = jnp.zeros((10, 2))\n",
    "a_cov = jnp.tile(jnp.eye(2), (10, 1, 1))\n",
    "a_sampled = jax.vmap(single_sample, in_axes=(0, None, None))(keys, a_mean, a_cov)"
   ]
  },
  {
   "cell_type": "code",
   "execution_count": 12,
   "metadata": {},
   "outputs": [
    {
     "data": {
      "text/plain": [
       "(10, 10, 2)"
      ]
     },
     "execution_count": 12,
     "metadata": {},
     "output_type": "execute_result"
    }
   ],
   "source": [
    "a_sampled.shape"
   ]
  }
 ],
 "metadata": {
  "kernelspec": {
   "display_name": "jax2",
   "language": "python",
   "name": "python3"
  },
  "language_info": {
   "codemirror_mode": {
    "name": "ipython",
    "version": 3
   },
   "file_extension": ".py",
   "mimetype": "text/x-python",
   "name": "python",
   "nbconvert_exporter": "python",
   "pygments_lexer": "ipython3",
   "version": "3.11.4"
  },
  "orig_nbformat": 4
 },
 "nbformat": 4,
 "nbformat_minor": 2
}
