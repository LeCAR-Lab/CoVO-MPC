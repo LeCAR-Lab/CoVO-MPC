{
 "cells": [
  {
   "cell_type": "code",
   "execution_count": 7,
   "metadata": {},
   "outputs": [
    {
     "name": "stdout",
     "output_type": "stream",
     "text": [
      "cc [0.07055375 0.07050372]\n",
      "Optimal Solution:  [0.37525702 0.6247432 ]\n"
     ]
    }
   ],
   "source": [
    "import jax.numpy as jnp\n",
    "from jaxopt import ProjectedGradient\n",
    "from jaxopt.projection import projection_hyperplane\n",
    "\n",
    "# Objective function\n",
    "eign_values = jnp.array([0.5, 0.6])\n",
    "lam = 2\n",
    "def objective(params):\n",
    "    return jnp.sum(eign_values/(1+2/lam*eign_values*jnp.exp(params))**2)\n",
    "\n",
    "# Constraint: x1 + x2 = 1, represented as a hyperplane\n",
    "def projection_fn(params, hyperparams_proj):\n",
    "    return projection_hyperplane(params, hyperparams=(hyperparams_proj, 1))\n",
    "\n",
    "# Initialize 'ProjectedGradient' solver\n",
    "solver = ProjectedGradient(fun=objective, projection=projection_fn)\n",
    "\n",
    "# Initial parameters\n",
    "params_init = jnp.array([0.5, 0.5])\n",
    "\n",
    "# Define the optimization problem\n",
    "sol = solver.run(params_init, hyperparams_proj=jnp.array([1, 1]))\n",
    "\n",
    "# check the solution\n",
    "o=eign_values\n",
    "s=jnp.exp(sol.params)\n",
    "cc = ((o**2)*s)/((1+2/lam*o*s)**3)\n",
    "print('cc', cc)\n",
    "\n",
    "# Print the optimal solution\n",
    "print(\"Optimal Solution: \", sol.params)"
   ]
  },
  {
   "cell_type": "code",
   "execution_count": 8,
   "metadata": {},
   "outputs": [
    {
     "data": {
      "text/plain": [
       "Array([8.6635475e-05, 4.4621454e-05], dtype=float32)"
      ]
     },
     "execution_count": 8,
     "metadata": {},
     "output_type": "execute_result"
    }
   ],
   "source": [
    "import jax.numpy as jnp\n",
    "lam=0.01\n",
    "eign_values = jnp.array([0.1, 0.2])\n",
    "params = jnp.array([0.5, 0.5])\n",
    "eign_values/(1+2/lam*eign_values*jnp.exp(params))**2"
   ]
  }
 ],
 "metadata": {
  "kernelspec": {
   "display_name": "jax",
   "language": "python",
   "name": "python3"
  },
  "language_info": {
   "codemirror_mode": {
    "name": "ipython",
    "version": 3
   },
   "file_extension": ".py",
   "mimetype": "text/x-python",
   "name": "python",
   "nbconvert_exporter": "python",
   "pygments_lexer": "ipython3",
   "version": "3.10.12"
  }
 },
 "nbformat": 4,
 "nbformat_minor": 2
}
