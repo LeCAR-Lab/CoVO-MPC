{
 "cells": [
  {
   "cell_type": "code",
   "execution_count": null,
   "metadata": {},
   "outputs": [],
   "source": [
    "import pickle\n",
    "from matplotlib import pyplot as plt\n",
    "import numpy as np\n",
    "from jax import numpy as jnp"
   ]
  },
  {
   "cell_type": "code",
   "execution_count": null,
   "metadata": {},
   "outputs": [],
   "source": [
    "file_path = \"../../results/state_seq.pkl\"\n",
    "with open(file_path, \"rb\") as f:\n",
    "    state_seq = pickle.load(f)\n",
    "\n",
    "# plot the state sequence\n",
    "start = 0\n",
    "end = len(state_seq)\n",
    "pos = np.asarray([state_seq[i].pos for i in range(start, end)])\n",
    "pos_obj = np.asarray([state_seq[i].pos_obj for i in range(start, end)])\n",
    "pos_hook = np.asarray([state_seq[i].pos_hook for i in range(start, end)])\n",
    "l_rope = np.asarray([state_seq[i].l_rope for i in range(start, end)])\n",
    "f_rope_norm = np.asarray([state_seq[i].f_rope_norm for i in range(start, end)])\n",
    "zeta = np.asarray([state_seq[i].zeta for i in range(start, end)])\n",
    "\n",
    "plt.figure(figsize=(10, 10))\n",
    "plt.subplot(411)\n",
    "plt.plot(pos)\n",
    "plt.title(\"pos\")\n",
    "plt.subplot(412)\n",
    "plt.plot(pos_obj)\n",
    "plt.plot(pos_hook, '--')\n",
    "plt.title(\"obj_pos\")\n",
    "plt.subplot(413)\n",
    "plt.plot(l_rope)\n",
    "plt.plot(np.linalg.norm(pos_obj - pos_hook, axis=1), '--')\n",
    "plt.title(\"l_rope\")\n",
    "plt.subplot(414)\n",
    "plt.plot(zeta)\n",
    "plt.plot(np.linalg.norm(zeta, axis=1), '--')\n",
    "plt.title(\"zeta\")"
   ]
  }
 ],
 "metadata": {
  "kernelspec": {
   "display_name": "jax",
   "language": "python",
   "name": "python3"
  },
  "language_info": {
   "codemirror_mode": {
    "name": "ipython",
    "version": 3
   },
   "file_extension": ".py",
   "mimetype": "text/x-python",
   "name": "python",
   "nbconvert_exporter": "python",
   "pygments_lexer": "ipython3",
   "version": "3.10.12"
  },
  "orig_nbformat": 4
 },
 "nbformat": 4,
 "nbformat_minor": 2
}
