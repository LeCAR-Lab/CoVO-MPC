{
 "cells": [
  {
   "cell_type": "code",
   "execution_count": null,
   "metadata": {},
   "outputs": [],
   "source": [
    "import jax\n",
    "from jax import numpy as jnp"
   ]
  },
  {
   "cell_type": "code",
   "execution_count": null,
   "metadata": {},
   "outputs": [],
   "source": [
    "H = 6\n",
    "action_dim = 2\n",
    "N = 1000\n",
    "key = jax.random.PRNGKey(0)"
   ]
  },
  {
   "cell_type": "code",
   "execution_count": null,
   "metadata": {},
   "outputs": [],
   "source": [
    "a_mean = jnp.linspace(0, 1, action_dim*H).reshape((H, action_dim))\n",
    "a_cov = jnp.tile(jnp.eye(action_dim)*0.04, (H, 1, 1))\n",
    "\n",
    "sample_key, key = jax.random.split(key)\n",
    "keys = jax.random.split(sample_key, N)\n",
    "def single_sample(key, traj_mean, traj_cov):\n",
    "    return jax.vmap(lambda mean, cov: jax.random.multivariate_normal(key, mean, cov))(traj_mean, traj_cov)\n",
    "# repeat single_sample N times to get N samples\n",
    "a_sampled = jax.vmap(single_sample, in_axes=(0, None, None))(keys, a_mean, a_cov)\n",
    "a_sampled_flattened = jnp.reshape(a_sampled, (N, action_dim*H))"
   ]
  },
  {
   "cell_type": "code",
   "execution_count": null,
   "metadata": {},
   "outputs": [],
   "source": [
    "def single_sample(key):\n",
    "    return jax.random.multivariate_normal(key, a_mean.flatten(), jnp.eye(2*H)*0.04)\n",
    "sample_key, key = jax.random.split(key)\n",
    "keys = jax.random.split(sample_key, N)\n",
    "a_sampled_flattened_new = jax.vmap(single_sample)(keys)"
   ]
  },
  {
   "cell_type": "code",
   "execution_count": null,
   "metadata": {},
   "outputs": [],
   "source": [
    "# get covariance matrix\n",
    "a_old_cov = jnp.cov(a_sampled_flattened.T)\n",
    "a_old_cov.shape"
   ]
  },
  {
   "cell_type": "code",
   "execution_count": null,
   "metadata": {},
   "outputs": [],
   "source": [
    "# import pickle\n",
    "\n",
    "# with open('/home/pcy/Research/quadjax/results/a_sampled_old.pkl', 'rb') as f:\n",
    "#     a_sampled_old = pickle.load(f)\n",
    "# with open('/home/pcy/Research/quadjax/results/a_sampled_new.pkl', 'rb') as f:\n",
    "#     a_sampled_new = pickle.load(f)\n",
    "# N = 128\n",
    "# H = 32\n",
    "# action_dim = 2\n",
    "# a_sampled_flattened = a_sampled_old.reshape(128, -1)\n",
    "# a_sampled_flattened_new = a_sampled_new.reshape(128, -1)"
   ]
  },
  {
   "cell_type": "code",
   "execution_count": null,
   "metadata": {},
   "outputs": [],
   "source": [
    "# plot a_sampled_flattened distribution with bars\n",
    "import matplotlib.pyplot as plt\n",
    "import seaborn as sns\n",
    "sns.set_theme()\n",
    "for i in range(action_dim*H):\n",
    "    plt.figure()\n",
    "    plt.hist(a_sampled_flattened[:, i], bins=50, alpha=0.5, label='old')\n",
    "    plt.hist(a_sampled_flattened_new[:, i], bins=50, alpha=0.5, label='new')\n",
    "    plt.legend()"
   ]
  },
  {
   "cell_type": "code",
   "execution_count": 1,
   "metadata": {},
   "outputs": [
    {
     "data": {
      "text/plain": [
       "65535.000000000015"
      ]
     },
     "execution_count": 1,
     "metadata": {},
     "output_type": "execute_result"
    }
   ],
   "source": [
    "import numpy as np\n",
    "\n",
    "p = np.array([1.71479058e-09,  8.80284482e-05, -2.21152097e-01])\n",
    "\n",
    "def pwm_to_force(pwm):\n",
    "    force_in_grams = np.polyval(p, pwm)\n",
    "    force_in_newton = force_in_grams * 9.81 / 1000.0\n",
    "    return np.maximum(force_in_newton, 0)\n",
    "\n",
    "def force_to_pwm(force):\n",
    "    a, b, c = p\n",
    "    force_in_grams = force * 1000.0 / 9.81\n",
    "    pwm = (-b + np.sqrt(b**2 - 4*a*(c-force_in_grams))) / (2*a)\n",
    "    return pwm\n",
    "\n",
    "force_to_pwm(pwm_to_force(65535))"
   ]
  },
  {
   "cell_type": "code",
   "execution_count": 3,
   "metadata": {},
   "outputs": [
    {
     "data": {
      "text/plain": [
       "0.008239448699999999"
      ]
     },
     "execution_count": 3,
     "metadata": {},
     "output_type": "execute_result"
    }
   ],
   "source": [
    "arm = 0.046 * 0.707\n",
    "max_force = 0.5067/4\n",
    "2 * max_force * arm"
   ]
  }
 ],
 "metadata": {
  "kernelspec": {
   "display_name": "jax2",
   "language": "python",
   "name": "python3"
  },
  "language_info": {
   "codemirror_mode": {
    "name": "ipython",
    "version": 3
   },
   "file_extension": ".py",
   "mimetype": "text/x-python",
   "name": "python",
   "nbconvert_exporter": "python",
   "pygments_lexer": "ipython3",
   "version": "3.10.12"
  },
  "orig_nbformat": 4
 },
 "nbformat": 4,
 "nbformat_minor": 2
}
