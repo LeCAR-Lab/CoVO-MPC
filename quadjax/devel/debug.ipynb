{
 "cells": [
  {
   "cell_type": "code",
   "execution_count": 4,
   "metadata": {},
   "outputs": [],
   "source": [
    "import jax\n",
    "from jax import numpy as jnp"
   ]
  },
  {
   "cell_type": "code",
   "execution_count": 5,
   "metadata": {},
   "outputs": [],
   "source": [
    "H = 6\n",
    "action_dim = 2\n",
    "N = 1000\n",
    "key = jax.random.PRNGKey(0)"
   ]
  },
  {
   "cell_type": "code",
   "execution_count": 6,
   "metadata": {},
   "outputs": [],
   "source": [
    "a_mean = jnp.linspace(0, 1, action_dim*H).reshape((H, action_dim))\n",
    "a_cov = jnp.tile(jnp.eye(action_dim)*0.04, (H, 1, 1))\n",
    "\n",
    "sample_key, key = jax.random.split(key)\n",
    "keys = jax.random.split(sample_key, N)\n",
    "def single_sample(key, traj_mean, traj_cov):\n",
    "    return jax.vmap(lambda mean, cov: jax.random.multivariate_normal(key, mean, cov))(traj_mean, traj_cov)\n",
    "# repeat single_sample N times to get N samples\n",
    "a_sampled = jax.vmap(single_sample, in_axes=(0, None, None))(keys, a_mean, a_cov)\n",
    "a_sampled_flattened = jnp.reshape(a_sampled, (N, action_dim*H))"
   ]
  },
  {
   "cell_type": "code",
   "execution_count": 7,
   "metadata": {},
   "outputs": [],
   "source": [
    "def single_sample(key):\n",
    "    return jax.random.multivariate_normal(key, a_mean.flatten(), jnp.eye(2*H)*0.04)\n",
    "sample_key, key = jax.random.split(key)\n",
    "keys = jax.random.split(sample_key, N)\n",
    "a_sampled_flattened_new = jax.vmap(single_sample)(keys)"
   ]
  },
  {
   "cell_type": "code",
   "execution_count": null,
   "metadata": {},
   "outputs": [],
   "source": [
    "# get covariance matrix\n",
    "a_old_cov = jnp.cov(a_sampled_flattened.T)\n",
    "a_old_cov.shape"
   ]
  },
  {
   "cell_type": "code",
   "execution_count": null,
   "metadata": {},
   "outputs": [],
   "source": [
    "# import pickle\n",
    "\n",
    "# with open('/home/pcy/Research/quadjax/results/a_sampled_old.pkl', 'rb') as f:\n",
    "#     a_sampled_old = pickle.load(f)\n",
    "# with open('/home/pcy/Research/quadjax/results/a_sampled_new.pkl', 'rb') as f:\n",
    "#     a_sampled_new = pickle.load(f)\n",
    "# N = 128\n",
    "# H = 32\n",
    "# action_dim = 2\n",
    "# a_sampled_flattened = a_sampled_old.reshape(128, -1)\n",
    "# a_sampled_flattened_new = a_sampled_new.reshape(128, -1)"
   ]
  },
  {
   "cell_type": "code",
   "execution_count": null,
   "metadata": {},
   "outputs": [],
   "source": [
    "# plot a_sampled_flattened distribution with bars\n",
    "import matplotlib.pyplot as plt\n",
    "import seaborn as sns\n",
    "sns.set_theme()\n",
    "for i in range(action_dim*H):\n",
    "    plt.figure()\n",
    "    plt.hist(a_sampled_flattened[:, i], bins=50, alpha=0.5, label='old')\n",
    "    plt.hist(a_sampled_flattened_new[:, i], bins=50, alpha=0.5, label='new')\n",
    "    plt.legend()"
   ]
  },
  {
   "cell_type": "code",
   "execution_count": 26,
   "metadata": {},
   "outputs": [],
   "source": [
    "import jax\n",
    "from jax import numpy as jnp\n",
    "\n",
    "N = 1\n",
    "H = 3\n",
    "action_dim = 2\n",
    "n = 5\n",
    "a_sampled_waypoint = jnp.array(\n",
    "    [\n",
    "        [[0.0, 1.0], [2.0, 5.0], [3.0, -1.0]],\n",
    "    ]\n",
    ")\n",
    "\n",
    "# get the linear interpolation of the waypoints (apply to each dimension)\n",
    "def linear_interpolation(a, b):\n",
    "    return jnp.arange(n) * (b - a) / n + a\n",
    "a_sampled = jax.vmap(jax.vmap(jax.vmap(linear_interpolation)))(a_sampled_waypoint[:, :-1], a_sampled_waypoint[:, 1:]) # (N, H-1, action_dim, n)\n",
    "a_sampled_transposed = jnp.transpose(a_sampled, (0, 1, 3, 2)) # (N, H-1, n, action_dim)\n",
    "a_sampled_flattened = jnp.reshape(a_sampled_transposed, (N, (H-1)*n, action_dim)) # (N, (H-1)*n, action_dim)"
   ]
  },
  {
   "cell_type": "code",
   "execution_count": 27,
   "metadata": {},
   "outputs": [
    {
     "data": {
      "text/plain": [
       "Array([[[0.        , 1.        ],\n",
       "        [0.4       , 1.8       ],\n",
       "        [0.8       , 2.6       ],\n",
       "        [1.2       , 3.4       ],\n",
       "        [1.6       , 4.2       ],\n",
       "        [2.        , 5.        ],\n",
       "        [2.2       , 3.8       ],\n",
       "        [2.4       , 2.6       ],\n",
       "        [2.6       , 1.3999999 ],\n",
       "        [2.8       , 0.19999981]]], dtype=float32)"
      ]
     },
     "execution_count": 27,
     "metadata": {},
     "output_type": "execute_result"
    }
   ],
   "source": [
    "a_sampled_flattened"
   ]
  },
  {
   "cell_type": "code",
   "execution_count": 22,
   "metadata": {},
   "outputs": [
    {
     "data": {
      "text/plain": [
       "Array([[0. , 0.4, 0.8, 1.2, 1.6, 2. , 2.2, 2.4, 2.6, 2.8]], dtype=float32)"
      ]
     },
     "execution_count": 22,
     "metadata": {},
     "output_type": "execute_result"
    }
   ],
   "source": [
    "a_sampled.reshape(N, (H-1) * action_dim * n)"
   ]
  },
  {
   "cell_type": "code",
   "execution_count": 18,
   "metadata": {},
   "outputs": [
    {
     "data": {
      "text/plain": [
       "(2, 3, 10)"
      ]
     },
     "execution_count": 18,
     "metadata": {},
     "output_type": "execute_result"
    }
   ],
   "source": [
    "a_sampled_flattened.shape"
   ]
  }
 ],
 "metadata": {
  "kernelspec": {
   "display_name": "jax",
   "language": "python",
   "name": "python3"
  },
  "language_info": {
   "codemirror_mode": {
    "name": "ipython",
    "version": 3
   },
   "file_extension": ".py",
   "mimetype": "text/x-python",
   "name": "python",
   "nbconvert_exporter": "python",
   "pygments_lexer": "ipython3",
   "version": "3.10.12"
  },
  "orig_nbformat": 4
 },
 "nbformat": 4,
 "nbformat_minor": 2
}
