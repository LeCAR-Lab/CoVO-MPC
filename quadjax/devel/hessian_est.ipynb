{
 "cells": [
  {
   "cell_type": "code",
   "execution_count": 2,
   "metadata": {},
   "outputs": [],
   "source": [
    "from jax import numpy as jnp\n",
    "import pickle"
   ]
  },
  {
   "cell_type": "code",
   "execution_count": 3,
   "metadata": {},
   "outputs": [
    {
     "name": "stderr",
     "output_type": "stream",
     "text": [
      "2024-01-21 14:06:07.251794: W external/xla/xla/service/platform_util.cc:198] unable to create StreamExecutor for CUDA:0: failed initializing StreamExecutor for CUDA device ordinal 0: INTERNAL: failed call to cuDevicePrimaryCtxRetain: CUDA_ERROR_OUT_OF_MEMORY: out of memory; total memory reported: 12569739264\n",
      "CUDA backend failed to initialize: INTERNAL: no supported devices found for platform CUDA (Set TF_CPP_MIN_LOG_LEVEL=0 and rerun for more info.)\n"
     ]
    }
   ],
   "source": [
    "# load data\n",
    "with open(\"../../results/cost.pkl\", \"rb\") as f:\n",
    "    y = pickle.load(f)\n",
    "with open(\"../../results/a_sampled.pkl\", \"rb\") as f:\n",
    "    x = pickle.load(f)\n",
    "with open(\"../../results/a_mean.pkl\", \"rb\") as f:\n",
    "    x_mean = pickle.load(f)\n",
    "with open(\"../../results/a_cov.pkl\", \"rb\") as f:\n",
    "    x_cov = pickle.load(f)"
   ]
  },
  {
   "cell_type": "code",
   "execution_count": 4,
   "metadata": {},
   "outputs": [],
   "source": [
    "# sampled x, shape (1024, 32)\n",
    "x = x[..., 0]\n",
    "# sampled y, shape (1024,)"
   ]
  },
  {
   "cell_type": "code",
   "execution_count": 5,
   "metadata": {},
   "outputs": [],
   "source": [
    "import jaxopt\n",
    "# solve the optimization problem\n",
    "# min_{A,b,c} sum_i (y_i - x_i^T A x_i - b^T x_i - c)^2\n",
    "\n",
    "# define the objective function\n",
    "def f(params):\n",
    "    A, b, c = params\n",
    "    return jnp.sum((y - jnp.sum(x * (A @ x), axis=-1) - b @ x - c)**2)\n",
    "\n",
    "# define the gradient of the objective function\n",
    "def f_grad(params):\n",
    "    A, b, c = params\n",
    "    grad_A = -2 * jnp.sum(x[..., None] * x[:, None, :] * (y - jnp.sum(x * (A @ x), axis=-1) - b @ x - c)[:, None, None], axis=0)\n",
    "    grad_b = -2 * jnp.sum(x * (y - jnp.sum(x * (A @ x), axis=-1) - b @ x - c)[:, None], axis=0)\n",
    "    grad_c = -2 * jnp.sum(y - jnp.sum(x * (A @ x), axis=-1) - b @ x - c)\n",
    "    return (grad_A, grad_b, grad_c)\n",
    "\n",
    "# define the hessian of the objective function\n",
    "def f_hessian(params):\n",
    "    A, b, c = params\n",
    "    hess_A = 2 * jnp.sum(x[..., None, None] * x[:, None, :, None] * x[:, None, None, :] * x[:, None, None, None] * (A @ x)[:, None, None, None] * (A @ x)[:, None, None, None], axis=0)\n",
    "    hess_b = 2 * jnp.sum(x[..., None, None] * x[:, None, :, None] * x[:, None, None, None] * (A @ x)[:, None, None, None], axis=0)\n",
    "    hess_c = 2 * jnp.sum(x[..., None, None] * x[:, None, :, None] * (A @ x)[:, None, None, None], axis=0)\n",
    "    return (hess_A, hess_b, hess_c)\n",
    "\n",
    "# define the initial guess\n",
    "A0 = jnp.zeros((32, 32))\n",
    "b0 = jnp.zeros((32,))\n",
    "c0 = 0."
   ]
  },
  {
   "cell_type": "code",
   "execution_count": 6,
   "metadata": {},
   "outputs": [],
   "source": [
    "# NOTE: A = 1/2 Hessian"
   ]
  },
  {
   "cell_type": "code",
   "execution_count": 7,
   "metadata": {},
   "outputs": [
    {
     "data": {
      "image/png": "[encoded data removed]",
      "text/plain": [
       "<Figure size 640x480 with 1 Axes>"
      ]
     },
     "metadata": {},
     "output_type": "display_data"
    }
   ],
   "source": [
    "# plot y distribution\n",
    "\n",
    "from matplotlib import pyplot as plt\n",
    "\n",
    "lam = 0.01\n",
    "\n",
    "y_topk = jnp.sort(y)[::-1][:int(len(y) * 1.0)]\n",
    "\n",
    "plt.hist(y_topk, bins=100);"
   ]
  }
 ],
 "metadata": {
  "kernelspec": {
   "display_name": "jax",
   "language": "python",
   "name": "python3"
  },
  "language_info": {
   "codemirror_mode": {
    "name": "ipython",
    "version": 3
   },
   "file_extension": ".py",
   "mimetype": "text/x-python",
   "name": "python",
   "nbconvert_exporter": "python",
   "pygments_lexer": "ipython3",
   "version": "3.10.12"
  }
 },
 "nbformat": 4,
 "nbformat_minor": 2
}
